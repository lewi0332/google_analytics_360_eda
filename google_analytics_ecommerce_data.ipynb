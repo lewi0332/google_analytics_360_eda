{
 "metadata": {
  "language_info": {
   "codemirror_mode": {
    "name": "ipython",
    "version": 3
   },
   "file_extension": ".py",
   "mimetype": "text/x-python",
   "name": "python",
   "nbconvert_exporter": "python",
   "pygments_lexer": "ipython3",
   "version": "3.8.5-final"
  },
  "orig_nbformat": 2,
  "kernelspec": {
   "name": "python3",
   "display_name": "Python 3",
   "language": "python"
  }
 },
 "nbformat": 4,
 "nbformat_minor": 2,
 "cells": [
  {
   "source": [
    "# Google Analytics 360 Sample\n",
    "\n",
    "Analysis of ecommerce data from Google Analytics 360 exported to BigQuery from the Google Merchandise Store. \n",
    "\n",
    "This exercise is intended to demonstrate an understanding of 360 data as well as the use of Google's BigQuery cloud database. \n",
    "\n",
    "Google has made this data availble as a [public dataset](https://cloud.google.com/bigquery/public-data/).\n",
    "\n",
    "**Where it comes from**\n",
    "\n",
    "The sample dataset contains obfuscated Google Analytics 360 data from the [Google Merchandise Store](https://www.googlemerchandisestore.com/shop.axd/Home?utm_source=Partners&utm_medium=affiliate&utm_campaign=Data%20Share%20Promo), a real ecommerce store. The Google Merchandise Store sells Google branded merchandise. The data is typical of what you would see for an ecommerce website. It includes the following kinds of information:\n",
    "\n",
    "- Traffic source data: information about where website visitors originate. This includes data about organic traffic, paid search traffic, display traffic, etc.\n",
    "- Content data: information about the behavior of users on the site. This includes the URLs of pages that visitors look at, how they interact with content, etc.\n",
    "- Transactional data: information about the transactions that occur on the Google Merchandise Store website.\n",
    "\n",
    "Data includes records from August of 2016 through August of 2017. \n"
   ],
   "cell_type": "markdown",
   "metadata": {}
  },
  {
   "source": [
    "--- \n",
    "\n",
    "Import dependancies and create Google Cloud client connection to my project through a BigQuery service account. "
   ],
   "cell_type": "markdown",
   "metadata": {}
  },
  {
   "cell_type": "code",
   "execution_count": 1,
   "metadata": {},
   "outputs": [
    {
     "output_type": "stream",
     "name": "stdout",
     "text": [
      "numpy = 1.19.1\npandas = 1.1.0\nbigquery = 1.22.0\n"
     ]
    }
   ],
   "source": [
    "import pandas as pd\n",
    "import numpy as np\n",
    "from google.cloud import bigquery\n",
    "from google.oauth2 import service_account\n",
    "import plotly.graph_objects as go\n",
    "import fohr_theme_light\n",
    "import chart_studio.plotly as py\n",
    "pd.options.plotting.backend = 'plotly'\n",
    "\n",
    "# Connect to \n",
    "CREDENTIALS = service_account.Credentials.from_service_account_file('bigquery.json')\n",
    "PROJECT_ID = 'udacity-bigquery'\n",
    "CLIENT = bigquery.Client(credentials=CREDENTIALS, project=PROJECT_ID)\n",
    "\n",
    "print(f'numpy = {np.__version__}')\n",
    "print(f'pandas = {pd.__version__}')\n",
    "print(f'bigquery = {bigquery.__version__}')"
   ]
  },
  {
   "cell_type": "code",
   "execution_count": 2,
   "metadata": {},
   "outputs": [
    {
     "output_type": "execute_result",
     "data": {
      "text/plain": [
       "'bigquery@udacity-bigquery.iam.gserviceaccount.com'"
      ]
     },
     "metadata": {},
     "execution_count": 2
    }
   ],
   "source": [
    "CREDENTIALS.service_account_email"
   ]
  },
  {
   "source": [
    "---\n",
    "\n",
    "Let's take a look at what is stored in this data frame. Similar to AWS Athena, Google BigQuery has subtables inside columns. It can also auto-detect a schema on read for supported formats and allows for Nulls. "
   ],
   "cell_type": "markdown",
   "metadata": {}
  },
  {
   "cell_type": "code",
   "execution_count": 3,
   "metadata": {},
   "outputs": [
    {
     "output_type": "execute_result",
     "data": {
      "text/plain": [
       "             column_name                                          data_type\n",
       "0        channelGrouping                                             STRING\n",
       "1               clientId                                             STRING\n",
       "2       customDimensions           ARRAY<STRUCT<index INT64, value STRING>>\n",
       "3                   date                                             STRING\n",
       "4                 device  STRUCT<browser STRING, browserVersion STRING, ...\n",
       "5          fullVisitorId                                             STRING\n",
       "6             geoNetwork  STRUCT<continent STRING, subContinent STRING, ...\n",
       "7                   hits  ARRAY<STRUCT<hitNumber INT64, time INT64, hour...\n",
       "8                   hits  ARRAY<STRUCT<hitNumber INT64, time INT64, hour...\n",
       "9   socialEngagementType                                             STRING\n",
       "10                totals  STRUCT<visits INT64, hits INT64, pageviews INT...\n",
       "11         trafficSource  STRUCT<referralPath STRING, campaign STRING, s...\n",
       "12                userId                                             STRING\n",
       "13               visitId                                              INT64\n",
       "14           visitNumber                                              INT64\n",
       "15        visitStartTime                                              INT64\n",
       "16             visitorId                                              INT64"
      ],
      "text/html": "<div>\n<style scoped>\n    .dataframe tbody tr th:only-of-type {\n        vertical-align: middle;\n    }\n\n    .dataframe tbody tr th {\n        vertical-align: top;\n    }\n\n    .dataframe thead th {\n        text-align: right;\n    }\n</style>\n<table border=\"1\" class=\"dataframe\">\n  <thead>\n    <tr style=\"text-align: right;\">\n      <th></th>\n      <th>column_name</th>\n      <th>data_type</th>\n    </tr>\n  </thead>\n  <tbody>\n    <tr>\n      <th>0</th>\n      <td>channelGrouping</td>\n      <td>STRING</td>\n    </tr>\n    <tr>\n      <th>1</th>\n      <td>clientId</td>\n      <td>STRING</td>\n    </tr>\n    <tr>\n      <th>2</th>\n      <td>customDimensions</td>\n      <td>ARRAY&lt;STRUCT&lt;index INT64, value STRING&gt;&gt;</td>\n    </tr>\n    <tr>\n      <th>3</th>\n      <td>date</td>\n      <td>STRING</td>\n    </tr>\n    <tr>\n      <th>4</th>\n      <td>device</td>\n      <td>STRUCT&lt;browser STRING, browserVersion STRING, ...</td>\n    </tr>\n    <tr>\n      <th>5</th>\n      <td>fullVisitorId</td>\n      <td>STRING</td>\n    </tr>\n    <tr>\n      <th>6</th>\n      <td>geoNetwork</td>\n      <td>STRUCT&lt;continent STRING, subContinent STRING, ...</td>\n    </tr>\n    <tr>\n      <th>7</th>\n      <td>hits</td>\n      <td>ARRAY&lt;STRUCT&lt;hitNumber INT64, time INT64, hour...</td>\n    </tr>\n    <tr>\n      <th>8</th>\n      <td>hits</td>\n      <td>ARRAY&lt;STRUCT&lt;hitNumber INT64, time INT64, hour...</td>\n    </tr>\n    <tr>\n      <th>9</th>\n      <td>socialEngagementType</td>\n      <td>STRING</td>\n    </tr>\n    <tr>\n      <th>10</th>\n      <td>totals</td>\n      <td>STRUCT&lt;visits INT64, hits INT64, pageviews INT...</td>\n    </tr>\n    <tr>\n      <th>11</th>\n      <td>trafficSource</td>\n      <td>STRUCT&lt;referralPath STRING, campaign STRING, s...</td>\n    </tr>\n    <tr>\n      <th>12</th>\n      <td>userId</td>\n      <td>STRING</td>\n    </tr>\n    <tr>\n      <th>13</th>\n      <td>visitId</td>\n      <td>INT64</td>\n    </tr>\n    <tr>\n      <th>14</th>\n      <td>visitNumber</td>\n      <td>INT64</td>\n    </tr>\n    <tr>\n      <th>15</th>\n      <td>visitStartTime</td>\n      <td>INT64</td>\n    </tr>\n    <tr>\n      <th>16</th>\n      <td>visitorId</td>\n      <td>INT64</td>\n    </tr>\n  </tbody>\n</table>\n</div>"
     },
     "metadata": {},
     "execution_count": 3
    }
   ],
   "source": [
    "query = '''\n",
    "    SELECT distinct column_name, data_type\n",
    "    FROM `bigquery-public-data.google_analytics_sample.INFORMATION_SCHEMA.COLUMNS`\n",
    "    WHERE table_name like 'ga_sessions_%'\n",
    "    ORDER BY 1\n",
    "'''\n",
    "data = CLIENT.query(query).result().to_dataframe()\n",
    "data"
   ]
  },
  {
   "source": [
    "I can see that 7 of the 17 columns have a sub-structure with more data. Using a SQL-like sintax of `.` we can ultimate call these sub-column fields directly.\n",
    "\n",
    "Let's take a look at the first one."
   ],
   "cell_type": "markdown",
   "metadata": {}
  },
  {
   "cell_type": "code",
   "execution_count": 4,
   "metadata": {},
   "outputs": [
    {
     "output_type": "execute_result",
     "data": {
      "text/plain": [
       "         fullVisitorId  index            value\n",
       "0  7598107164796351257      4             APAC\n",
       "1  5909713377620782980      4  Central America\n",
       "2  1119565409681207118      4    North America\n",
       "3  2151631661398435396      4             EMEA\n",
       "4  1675396657302736678      4    North America"
      ],
      "text/html": "<div>\n<style scoped>\n    .dataframe tbody tr th:only-of-type {\n        vertical-align: middle;\n    }\n\n    .dataframe tbody tr th {\n        vertical-align: top;\n    }\n\n    .dataframe thead th {\n        text-align: right;\n    }\n</style>\n<table border=\"1\" class=\"dataframe\">\n  <thead>\n    <tr style=\"text-align: right;\">\n      <th></th>\n      <th>fullVisitorId</th>\n      <th>index</th>\n      <th>value</th>\n    </tr>\n  </thead>\n  <tbody>\n    <tr>\n      <th>0</th>\n      <td>7598107164796351257</td>\n      <td>4</td>\n      <td>APAC</td>\n    </tr>\n    <tr>\n      <th>1</th>\n      <td>5909713377620782980</td>\n      <td>4</td>\n      <td>Central America</td>\n    </tr>\n    <tr>\n      <th>2</th>\n      <td>1119565409681207118</td>\n      <td>4</td>\n      <td>North America</td>\n    </tr>\n    <tr>\n      <th>3</th>\n      <td>2151631661398435396</td>\n      <td>4</td>\n      <td>EMEA</td>\n    </tr>\n    <tr>\n      <th>4</th>\n      <td>1675396657302736678</td>\n      <td>4</td>\n      <td>North America</td>\n    </tr>\n  </tbody>\n</table>\n</div>"
     },
     "metadata": {},
     "execution_count": 4
    }
   ],
   "source": [
    "query = f''' \n",
    "    SELECT fullVisitorId, d.* \n",
    "    FROM `bigquery-public-data.google_analytics_sample.ga_sessions_*`, \n",
    "    UNNEST(customDimensions) d \n",
    "    WHERE _TABLE_SUFFIX between '20160801' and '20160901' \n",
    "    LIMIT 5 \n",
    "    '''\n",
    "data = CLIENT.query(query).result().to_dataframe()\n",
    "data"
   ]
  },
  {
   "source": [
    "Hmmm.  I don't really know what `index` means. `value` is clearly a geo region, but it looks like that might also be stored in the `GeoNetwork` column.\n",
    "\n",
    "Let's look at another column."
   ],
   "cell_type": "markdown",
   "metadata": {}
  },
  {
   "cell_type": "code",
   "execution_count": 5,
   "metadata": {},
   "outputs": [
    {
     "output_type": "execute_result",
     "data": {
      "text/plain": [
       "  visitorId        fullVisitorId  browser                 browserVersion  \\\n",
       "0      None  9621622720764337033   Safari  not available in demo dataset   \n",
       "1      None  7600379367948870835   Chrome  not available in demo dataset   \n",
       "2      None  0594549172933846354   Chrome  not available in demo dataset   \n",
       "3      None  9595629889938024111  Firefox  not available in demo dataset   \n",
       "4      None  5748628212328826505  Firefox  not available in demo dataset   \n",
       "\n",
       "                     browserSize operatingSystem  \\\n",
       "0  not available in demo dataset       Macintosh   \n",
       "1  not available in demo dataset         Windows   \n",
       "2  not available in demo dataset         Windows   \n",
       "3  not available in demo dataset         Windows   \n",
       "4  not available in demo dataset         Windows   \n",
       "\n",
       "          operatingSystemVersion  isMobile           mobileDeviceBranding  \\\n",
       "0  not available in demo dataset     False  not available in demo dataset   \n",
       "1  not available in demo dataset     False  not available in demo dataset   \n",
       "2  not available in demo dataset     False  not available in demo dataset   \n",
       "3  not available in demo dataset     False  not available in demo dataset   \n",
       "4  not available in demo dataset     False  not available in demo dataset   \n",
       "\n",
       "               mobileDeviceModel            mobileInputSelector  \\\n",
       "0  not available in demo dataset  not available in demo dataset   \n",
       "1  not available in demo dataset  not available in demo dataset   \n",
       "2  not available in demo dataset  not available in demo dataset   \n",
       "3  not available in demo dataset  not available in demo dataset   \n",
       "4  not available in demo dataset  not available in demo dataset   \n",
       "\n",
       "                mobileDeviceInfo      mobileDeviceMarketingName  \\\n",
       "0  not available in demo dataset  not available in demo dataset   \n",
       "1  not available in demo dataset  not available in demo dataset   \n",
       "2  not available in demo dataset  not available in demo dataset   \n",
       "3  not available in demo dataset  not available in demo dataset   \n",
       "4  not available in demo dataset  not available in demo dataset   \n",
       "\n",
       "                    flashVersion javaEnabled                       language  \\\n",
       "0  not available in demo dataset        None  not available in demo dataset   \n",
       "1  not available in demo dataset        None  not available in demo dataset   \n",
       "2  not available in demo dataset        None  not available in demo dataset   \n",
       "3  not available in demo dataset        None  not available in demo dataset   \n",
       "4  not available in demo dataset        None  not available in demo dataset   \n",
       "\n",
       "                    screenColors               screenResolution deviceCategory  \n",
       "0  not available in demo dataset  not available in demo dataset        desktop  \n",
       "1  not available in demo dataset  not available in demo dataset        desktop  \n",
       "2  not available in demo dataset  not available in demo dataset        desktop  \n",
       "3  not available in demo dataset  not available in demo dataset        desktop  \n",
       "4  not available in demo dataset  not available in demo dataset        desktop  "
      ],
      "text/html": "<div>\n<style scoped>\n    .dataframe tbody tr th:only-of-type {\n        vertical-align: middle;\n    }\n\n    .dataframe tbody tr th {\n        vertical-align: top;\n    }\n\n    .dataframe thead th {\n        text-align: right;\n    }\n</style>\n<table border=\"1\" class=\"dataframe\">\n  <thead>\n    <tr style=\"text-align: right;\">\n      <th></th>\n      <th>visitorId</th>\n      <th>fullVisitorId</th>\n      <th>browser</th>\n      <th>browserVersion</th>\n      <th>browserSize</th>\n      <th>operatingSystem</th>\n      <th>operatingSystemVersion</th>\n      <th>isMobile</th>\n      <th>mobileDeviceBranding</th>\n      <th>mobileDeviceModel</th>\n      <th>mobileInputSelector</th>\n      <th>mobileDeviceInfo</th>\n      <th>mobileDeviceMarketingName</th>\n      <th>flashVersion</th>\n      <th>javaEnabled</th>\n      <th>language</th>\n      <th>screenColors</th>\n      <th>screenResolution</th>\n      <th>deviceCategory</th>\n    </tr>\n  </thead>\n  <tbody>\n    <tr>\n      <th>0</th>\n      <td>None</td>\n      <td>9621622720764337033</td>\n      <td>Safari</td>\n      <td>not available in demo dataset</td>\n      <td>not available in demo dataset</td>\n      <td>Macintosh</td>\n      <td>not available in demo dataset</td>\n      <td>False</td>\n      <td>not available in demo dataset</td>\n      <td>not available in demo dataset</td>\n      <td>not available in demo dataset</td>\n      <td>not available in demo dataset</td>\n      <td>not available in demo dataset</td>\n      <td>not available in demo dataset</td>\n      <td>None</td>\n      <td>not available in demo dataset</td>\n      <td>not available in demo dataset</td>\n      <td>not available in demo dataset</td>\n      <td>desktop</td>\n    </tr>\n    <tr>\n      <th>1</th>\n      <td>None</td>\n      <td>7600379367948870835</td>\n      <td>Chrome</td>\n      <td>not available in demo dataset</td>\n      <td>not available in demo dataset</td>\n      <td>Windows</td>\n      <td>not available in demo dataset</td>\n      <td>False</td>\n      <td>not available in demo dataset</td>\n      <td>not available in demo dataset</td>\n      <td>not available in demo dataset</td>\n      <td>not available in demo dataset</td>\n      <td>not available in demo dataset</td>\n      <td>not available in demo dataset</td>\n      <td>None</td>\n      <td>not available in demo dataset</td>\n      <td>not available in demo dataset</td>\n      <td>not available in demo dataset</td>\n      <td>desktop</td>\n    </tr>\n    <tr>\n      <th>2</th>\n      <td>None</td>\n      <td>0594549172933846354</td>\n      <td>Chrome</td>\n      <td>not available in demo dataset</td>\n      <td>not available in demo dataset</td>\n      <td>Windows</td>\n      <td>not available in demo dataset</td>\n      <td>False</td>\n      <td>not available in demo dataset</td>\n      <td>not available in demo dataset</td>\n      <td>not available in demo dataset</td>\n      <td>not available in demo dataset</td>\n      <td>not available in demo dataset</td>\n      <td>not available in demo dataset</td>\n      <td>None</td>\n      <td>not available in demo dataset</td>\n      <td>not available in demo dataset</td>\n      <td>not available in demo dataset</td>\n      <td>desktop</td>\n    </tr>\n    <tr>\n      <th>3</th>\n      <td>None</td>\n      <td>9595629889938024111</td>\n      <td>Firefox</td>\n      <td>not available in demo dataset</td>\n      <td>not available in demo dataset</td>\n      <td>Windows</td>\n      <td>not available in demo dataset</td>\n      <td>False</td>\n      <td>not available in demo dataset</td>\n      <td>not available in demo dataset</td>\n      <td>not available in demo dataset</td>\n      <td>not available in demo dataset</td>\n      <td>not available in demo dataset</td>\n      <td>not available in demo dataset</td>\n      <td>None</td>\n      <td>not available in demo dataset</td>\n      <td>not available in demo dataset</td>\n      <td>not available in demo dataset</td>\n      <td>desktop</td>\n    </tr>\n    <tr>\n      <th>4</th>\n      <td>None</td>\n      <td>5748628212328826505</td>\n      <td>Firefox</td>\n      <td>not available in demo dataset</td>\n      <td>not available in demo dataset</td>\n      <td>Windows</td>\n      <td>not available in demo dataset</td>\n      <td>False</td>\n      <td>not available in demo dataset</td>\n      <td>not available in demo dataset</td>\n      <td>not available in demo dataset</td>\n      <td>not available in demo dataset</td>\n      <td>not available in demo dataset</td>\n      <td>not available in demo dataset</td>\n      <td>None</td>\n      <td>not available in demo dataset</td>\n      <td>not available in demo dataset</td>\n      <td>not available in demo dataset</td>\n      <td>desktop</td>\n    </tr>\n  </tbody>\n</table>\n</div>"
     },
     "metadata": {},
     "execution_count": 5
    }
   ],
   "source": [
    "query = f''' \n",
    "    SELECT visitorId, fullVisitorId, device.* \n",
    "    FROM `bigquery-public-data.google_analytics_sample.ga_sessions_*` \n",
    "    WHERE _TABLE_SUFFIX between '20160801' and '20160901' \n",
    "    LIMIT 5 \n",
    "    '''\n",
    "data = CLIENT.query(query).result().to_dataframe()\n",
    "data"
   ]
  },
  {
   "cell_type": "code",
   "execution_count": 6,
   "metadata": {},
   "outputs": [
    {
     "output_type": "execute_result",
     "data": {
      "text/plain": [
       "19"
      ]
     },
     "metadata": {},
     "execution_count": 6
    }
   ],
   "source": [
    "data.shape[1]"
   ]
  },
  {
   "source": [
    "Now that is a lot more information. The sub-fields in the `device` columns allows us to see information about the device connecting to the store. However, as this is a public dataset, much of the data has been removed. Many columns have `not available in demo dataset` as the only value in all fields. `browser`, `operatingSystem`, `isMobile` and `deviceCategory` remain. Although the last two seem to be redundant information.\n",
    "\n",
    "---\n",
    "\n"
   ],
   "cell_type": "markdown",
   "metadata": {}
  },
  {
   "cell_type": "code",
   "execution_count": 7,
   "metadata": {},
   "outputs": [
    {
     "output_type": "execute_result",
     "data": {
      "text/plain": [
       "  visitorId        fullVisitorId continent      subContinent        country  \\\n",
       "0      None  9621622720764337033      Asia      Western Asia         Turkey   \n",
       "1      None  7600379367948870835  Americas  Northern America  United States   \n",
       "2      None  0594549172933846354    Europe    Eastern Europe         Russia   \n",
       "3      None  9595629889938024111      Asia      Eastern Asia          China   \n",
       "4      None  5748628212328826505  Americas  Northern America  United States   \n",
       "\n",
       "                          region                          metro  \\\n",
       "0                       Istanbul                      (not set)   \n",
       "1  not available in demo dataset  not available in demo dataset   \n",
       "2  not available in demo dataset  not available in demo dataset   \n",
       "3  not available in demo dataset  not available in demo dataset   \n",
       "4  not available in demo dataset  not available in demo dataset   \n",
       "\n",
       "                            city                         cityId  \\\n",
       "0                       Istanbul  not available in demo dataset   \n",
       "1  not available in demo dataset  not available in demo dataset   \n",
       "2  not available in demo dataset  not available in demo dataset   \n",
       "3  not available in demo dataset  not available in demo dataset   \n",
       "4  not available in demo dataset  not available in demo dataset   \n",
       "\n",
       "     networkDomain                       latitude  \\\n",
       "0     ttnet.com.tr  not available in demo dataset   \n",
       "1           rr.com  not available in demo dataset   \n",
       "2          tvoe.tv  not available in demo dataset   \n",
       "3  unknown.unknown  not available in demo dataset   \n",
       "4    metrocast.net  not available in demo dataset   \n",
       "\n",
       "                       longitude                networkLocation  \n",
       "0  not available in demo dataset  not available in demo dataset  \n",
       "1  not available in demo dataset  not available in demo dataset  \n",
       "2  not available in demo dataset  not available in demo dataset  \n",
       "3  not available in demo dataset  not available in demo dataset  \n",
       "4  not available in demo dataset  not available in demo dataset  "
      ],
      "text/html": "<div>\n<style scoped>\n    .dataframe tbody tr th:only-of-type {\n        vertical-align: middle;\n    }\n\n    .dataframe tbody tr th {\n        vertical-align: top;\n    }\n\n    .dataframe thead th {\n        text-align: right;\n    }\n</style>\n<table border=\"1\" class=\"dataframe\">\n  <thead>\n    <tr style=\"text-align: right;\">\n      <th></th>\n      <th>visitorId</th>\n      <th>fullVisitorId</th>\n      <th>continent</th>\n      <th>subContinent</th>\n      <th>country</th>\n      <th>region</th>\n      <th>metro</th>\n      <th>city</th>\n      <th>cityId</th>\n      <th>networkDomain</th>\n      <th>latitude</th>\n      <th>longitude</th>\n      <th>networkLocation</th>\n    </tr>\n  </thead>\n  <tbody>\n    <tr>\n      <th>0</th>\n      <td>None</td>\n      <td>9621622720764337033</td>\n      <td>Asia</td>\n      <td>Western Asia</td>\n      <td>Turkey</td>\n      <td>Istanbul</td>\n      <td>(not set)</td>\n      <td>Istanbul</td>\n      <td>not available in demo dataset</td>\n      <td>ttnet.com.tr</td>\n      <td>not available in demo dataset</td>\n      <td>not available in demo dataset</td>\n      <td>not available in demo dataset</td>\n    </tr>\n    <tr>\n      <th>1</th>\n      <td>None</td>\n      <td>7600379367948870835</td>\n      <td>Americas</td>\n      <td>Northern America</td>\n      <td>United States</td>\n      <td>not available in demo dataset</td>\n      <td>not available in demo dataset</td>\n      <td>not available in demo dataset</td>\n      <td>not available in demo dataset</td>\n      <td>rr.com</td>\n      <td>not available in demo dataset</td>\n      <td>not available in demo dataset</td>\n      <td>not available in demo dataset</td>\n    </tr>\n    <tr>\n      <th>2</th>\n      <td>None</td>\n      <td>0594549172933846354</td>\n      <td>Europe</td>\n      <td>Eastern Europe</td>\n      <td>Russia</td>\n      <td>not available in demo dataset</td>\n      <td>not available in demo dataset</td>\n      <td>not available in demo dataset</td>\n      <td>not available in demo dataset</td>\n      <td>tvoe.tv</td>\n      <td>not available in demo dataset</td>\n      <td>not available in demo dataset</td>\n      <td>not available in demo dataset</td>\n    </tr>\n    <tr>\n      <th>3</th>\n      <td>None</td>\n      <td>9595629889938024111</td>\n      <td>Asia</td>\n      <td>Eastern Asia</td>\n      <td>China</td>\n      <td>not available in demo dataset</td>\n      <td>not available in demo dataset</td>\n      <td>not available in demo dataset</td>\n      <td>not available in demo dataset</td>\n      <td>unknown.unknown</td>\n      <td>not available in demo dataset</td>\n      <td>not available in demo dataset</td>\n      <td>not available in demo dataset</td>\n    </tr>\n    <tr>\n      <th>4</th>\n      <td>None</td>\n      <td>5748628212328826505</td>\n      <td>Americas</td>\n      <td>Northern America</td>\n      <td>United States</td>\n      <td>not available in demo dataset</td>\n      <td>not available in demo dataset</td>\n      <td>not available in demo dataset</td>\n      <td>not available in demo dataset</td>\n      <td>metrocast.net</td>\n      <td>not available in demo dataset</td>\n      <td>not available in demo dataset</td>\n      <td>not available in demo dataset</td>\n    </tr>\n  </tbody>\n</table>\n</div>"
     },
     "metadata": {},
     "execution_count": 7
    }
   ],
   "source": [
    "query = f''' \n",
    "    SELECT visitorId, fullVisitorId, geoNetwork.* \n",
    "    FROM `bigquery-public-data.google_analytics_sample.ga_sessions_*` \n",
    "    WHERE _TABLE_SUFFIX between '20160801' and '20160901' \n",
    "    LIMIT 5 \n",
    "    '''\n",
    "data = CLIENT.query(query).result().to_dataframe()\n",
    "data"
   ]
  },
  {
   "source": [
    "`geoNetwork` looks to be infomation about the location of the user. Only `latitude`, `longitude` and `networkLocation` have been removed. \n",
    "\n",
    "---\n"
   ],
   "cell_type": "markdown",
   "metadata": {}
  },
  {
   "cell_type": "code",
   "execution_count": 8,
   "metadata": {},
   "outputs": [
    {
     "output_type": "execute_result",
     "data": {
      "text/plain": [
       "         fullVisitorId  hitNumber  time  hour  minute isSecure  isInteraction  \\\n",
       "0   920561211218448092          1     0    20      56     None           True   \n",
       "1  8358392293870842399          1     0     7      43     None           True   \n",
       "2   073334216298189757          1     0     3      50     None           True   \n",
       "3  4472401511891696800          1     0     9       5     None           True   \n",
       "4  1626562199419361908          1     0     2      44     None           True   \n",
       "\n",
       "   isEntrance  isExit                     referer  ... customVariables  \\\n",
       "0        True    True  https://www.google.com.au/  ...              []   \n",
       "1        True    True                        None  ...              []   \n",
       "2        True    True                        None  ...              []   \n",
       "3        True    True      https://www.google.com  ...              []   \n",
       "4        True    True      https://www.google.ch/  ...              []   \n",
       "\n",
       "  customDimensions customMetrics  type  \\\n",
       "0               []            []  PAGE   \n",
       "1               []            []  PAGE   \n",
       "2               []            []  PAGE   \n",
       "3               []            []  PAGE   \n",
       "4               []            []  PAGE   \n",
       "\n",
       "                                              social latencyTracking  \\\n",
       "0  {'socialInteractionNetwork': None, 'socialInte...            None   \n",
       "1  {'socialInteractionNetwork': None, 'socialInte...            None   \n",
       "2  {'socialInteractionNetwork': None, 'socialInte...            None   \n",
       "3  {'socialInteractionNetwork': None, 'socialInte...            None   \n",
       "4  {'socialInteractionNetwork': None, 'socialInte...            None   \n",
       "\n",
       "  sourcePropertyInfo                                       contentGroup  \\\n",
       "0               None  {'contentGroup1': '(not set)', 'contentGroup2'...   \n",
       "1               None  {'contentGroup1': '(not set)', 'contentGroup2'...   \n",
       "2               None  {'contentGroup1': '(not set)', 'contentGroup2'...   \n",
       "3               None  {'contentGroup1': '(not set)', 'contentGroup2'...   \n",
       "4               None  {'contentGroup1': '(not set)', 'contentGroup2'...   \n",
       "\n",
       "  dataSource publisher_infos  \n",
       "0       None              []  \n",
       "1       None              []  \n",
       "2       None              []  \n",
       "3       None              []  \n",
       "4       None              []  \n",
       "\n",
       "[5 rows x 34 columns]"
      ],
      "text/html": "<div>\n<style scoped>\n    .dataframe tbody tr th:only-of-type {\n        vertical-align: middle;\n    }\n\n    .dataframe tbody tr th {\n        vertical-align: top;\n    }\n\n    .dataframe thead th {\n        text-align: right;\n    }\n</style>\n<table border=\"1\" class=\"dataframe\">\n  <thead>\n    <tr style=\"text-align: right;\">\n      <th></th>\n      <th>fullVisitorId</th>\n      <th>hitNumber</th>\n      <th>time</th>\n      <th>hour</th>\n      <th>minute</th>\n      <th>isSecure</th>\n      <th>isInteraction</th>\n      <th>isEntrance</th>\n      <th>isExit</th>\n      <th>referer</th>\n      <th>...</th>\n      <th>customVariables</th>\n      <th>customDimensions</th>\n      <th>customMetrics</th>\n      <th>type</th>\n      <th>social</th>\n      <th>latencyTracking</th>\n      <th>sourcePropertyInfo</th>\n      <th>contentGroup</th>\n      <th>dataSource</th>\n      <th>publisher_infos</th>\n    </tr>\n  </thead>\n  <tbody>\n    <tr>\n      <th>0</th>\n      <td>920561211218448092</td>\n      <td>1</td>\n      <td>0</td>\n      <td>20</td>\n      <td>56</td>\n      <td>None</td>\n      <td>True</td>\n      <td>True</td>\n      <td>True</td>\n      <td>https://www.google.com.au/</td>\n      <td>...</td>\n      <td>[]</td>\n      <td>[]</td>\n      <td>[]</td>\n      <td>PAGE</td>\n      <td>{'socialInteractionNetwork': None, 'socialInte...</td>\n      <td>None</td>\n      <td>None</td>\n      <td>{'contentGroup1': '(not set)', 'contentGroup2'...</td>\n      <td>None</td>\n      <td>[]</td>\n    </tr>\n    <tr>\n      <th>1</th>\n      <td>8358392293870842399</td>\n      <td>1</td>\n      <td>0</td>\n      <td>7</td>\n      <td>43</td>\n      <td>None</td>\n      <td>True</td>\n      <td>True</td>\n      <td>True</td>\n      <td>None</td>\n      <td>...</td>\n      <td>[]</td>\n      <td>[]</td>\n      <td>[]</td>\n      <td>PAGE</td>\n      <td>{'socialInteractionNetwork': None, 'socialInte...</td>\n      <td>None</td>\n      <td>None</td>\n      <td>{'contentGroup1': '(not set)', 'contentGroup2'...</td>\n      <td>None</td>\n      <td>[]</td>\n    </tr>\n    <tr>\n      <th>2</th>\n      <td>073334216298189757</td>\n      <td>1</td>\n      <td>0</td>\n      <td>3</td>\n      <td>50</td>\n      <td>None</td>\n      <td>True</td>\n      <td>True</td>\n      <td>True</td>\n      <td>None</td>\n      <td>...</td>\n      <td>[]</td>\n      <td>[]</td>\n      <td>[]</td>\n      <td>PAGE</td>\n      <td>{'socialInteractionNetwork': None, 'socialInte...</td>\n      <td>None</td>\n      <td>None</td>\n      <td>{'contentGroup1': '(not set)', 'contentGroup2'...</td>\n      <td>None</td>\n      <td>[]</td>\n    </tr>\n    <tr>\n      <th>3</th>\n      <td>4472401511891696800</td>\n      <td>1</td>\n      <td>0</td>\n      <td>9</td>\n      <td>5</td>\n      <td>None</td>\n      <td>True</td>\n      <td>True</td>\n      <td>True</td>\n      <td>https://www.google.com</td>\n      <td>...</td>\n      <td>[]</td>\n      <td>[]</td>\n      <td>[]</td>\n      <td>PAGE</td>\n      <td>{'socialInteractionNetwork': None, 'socialInte...</td>\n      <td>None</td>\n      <td>None</td>\n      <td>{'contentGroup1': '(not set)', 'contentGroup2'...</td>\n      <td>None</td>\n      <td>[]</td>\n    </tr>\n    <tr>\n      <th>4</th>\n      <td>1626562199419361908</td>\n      <td>1</td>\n      <td>0</td>\n      <td>2</td>\n      <td>44</td>\n      <td>None</td>\n      <td>True</td>\n      <td>True</td>\n      <td>True</td>\n      <td>https://www.google.ch/</td>\n      <td>...</td>\n      <td>[]</td>\n      <td>[]</td>\n      <td>[]</td>\n      <td>PAGE</td>\n      <td>{'socialInteractionNetwork': None, 'socialInte...</td>\n      <td>None</td>\n      <td>None</td>\n      <td>{'contentGroup1': '(not set)', 'contentGroup2'...</td>\n      <td>None</td>\n      <td>[]</td>\n    </tr>\n  </tbody>\n</table>\n<p>5 rows × 34 columns</p>\n</div>"
     },
     "metadata": {},
     "execution_count": 8
    }
   ],
   "source": [
    "query = f''' \n",
    "    SELECT fullVisitorId, h.* \n",
    "    FROM `bigquery-public-data.google_analytics_sample.ga_sessions_*`, \n",
    "    UNNEST(hits) h\n",
    "    WHERE _TABLE_SUFFIX between '20160801' and '20160901' \n",
    "    LIMIT 50\n",
    "    '''\n",
    "data = CLIENT.query(query).result().to_dataframe()\n",
    "data.head()"
   ]
  },
  {
   "cell_type": "code",
   "execution_count": 9,
   "metadata": {},
   "outputs": [
    {
     "output_type": "execute_result",
     "data": {
      "text/plain": [
       "34"
      ]
     },
     "metadata": {},
     "execution_count": 9
    }
   ],
   "source": [
    "data.shape[1]"
   ]
  },
  {
   "cell_type": "code",
   "execution_count": 10,
   "metadata": {},
   "outputs": [
    {
     "output_type": "execute_result",
     "data": {
      "text/plain": [
       "Index(['fullVisitorId', 'hitNumber', 'time', 'hour', 'minute', 'isSecure',\n",
       "       'isInteraction', 'isEntrance', 'isExit', 'referer', 'page',\n",
       "       'transaction', 'item', 'contentInfo', 'appInfo', 'exceptionInfo',\n",
       "       'eventInfo', 'product', 'promotion', 'promotionActionInfo', 'refund',\n",
       "       'eCommerceAction', 'experiment', 'publisher', 'customVariables',\n",
       "       'customDimensions', 'customMetrics', 'type', 'social',\n",
       "       'latencyTracking', 'sourcePropertyInfo', 'contentGroup', 'dataSource',\n",
       "       'publisher_infos'],\n",
       "      dtype='object')"
      ]
     },
     "metadata": {},
     "execution_count": 10
    }
   ],
   "source": [
    "data.columns"
   ]
  },
  {
   "cell_type": "code",
   "execution_count": 11,
   "metadata": {},
   "outputs": [
    {
     "output_type": "execute_result",
     "data": {
      "text/plain": [
       "{'pagePath': '/home',\n",
       " 'hostname': 'www.googlemerchandisestore.com',\n",
       " 'pageTitle': 'Google Online Store',\n",
       " 'searchKeyword': None,\n",
       " 'searchCategory': None,\n",
       " 'pagePathLevel1': '/home',\n",
       " 'pagePathLevel2': '',\n",
       " 'pagePathLevel3': '',\n",
       " 'pagePathLevel4': ''}"
      ]
     },
     "metadata": {},
     "execution_count": 11
    }
   ],
   "source": [
    "data['page'].values[4]"
   ]
  },
  {
   "cell_type": "code",
   "execution_count": 12,
   "metadata": {},
   "outputs": [
    {
     "output_type": "execute_result",
     "data": {
      "text/plain": [
       "0    https://www.google.com.au/\n",
       "1                          None\n",
       "2                          None\n",
       "3        https://www.google.com\n",
       "4        https://www.google.ch/\n",
       "Name: referer, dtype: object"
      ]
     },
     "metadata": {},
     "execution_count": 12
    }
   ],
   "source": [
    "data['referer'].head()"
   ]
  },
  {
   "source": [
    "34 sub-fields of data in the `hits` column. Lots of great information in this column. However, like before many pieces have been removed. "
   ],
   "cell_type": "markdown",
   "metadata": {}
  },
  {
   "cell_type": "code",
   "execution_count": 13,
   "metadata": {},
   "outputs": [
    {
     "output_type": "execute_result",
     "data": {
      "text/plain": [
       "  visitorId        fullVisitorId  visits  hits  pageviews timeOnSite  bounces  \\\n",
       "0      None  7598107164796351257       1     1          1       None        1   \n",
       "1      None  5909713377620782980       1     1          1       None        1   \n",
       "2      None  1119565409681207118       1     1          1       None        1   \n",
       "3      None  2151631661398435396       1     1          1       None        1   \n",
       "4      None  2004769516783991626       1     1          1       None        1   \n",
       "\n",
       "  transactions transactionRevenue  newVisits screenviews uniqueScreenviews  \\\n",
       "0         None               None          1        None              None   \n",
       "1         None               None          1        None              None   \n",
       "2         None               None          1        None              None   \n",
       "3         None               None          1        None              None   \n",
       "4         None               None          1        None              None   \n",
       "\n",
       "  timeOnScreen totalTransactionRevenue sessionQualityDim  \n",
       "0         None                    None              None  \n",
       "1         None                    None              None  \n",
       "2         None                    None              None  \n",
       "3         None                    None              None  \n",
       "4         None                    None              None  "
      ],
      "text/html": "<div>\n<style scoped>\n    .dataframe tbody tr th:only-of-type {\n        vertical-align: middle;\n    }\n\n    .dataframe tbody tr th {\n        vertical-align: top;\n    }\n\n    .dataframe thead th {\n        text-align: right;\n    }\n</style>\n<table border=\"1\" class=\"dataframe\">\n  <thead>\n    <tr style=\"text-align: right;\">\n      <th></th>\n      <th>visitorId</th>\n      <th>fullVisitorId</th>\n      <th>visits</th>\n      <th>hits</th>\n      <th>pageviews</th>\n      <th>timeOnSite</th>\n      <th>bounces</th>\n      <th>transactions</th>\n      <th>transactionRevenue</th>\n      <th>newVisits</th>\n      <th>screenviews</th>\n      <th>uniqueScreenviews</th>\n      <th>timeOnScreen</th>\n      <th>totalTransactionRevenue</th>\n      <th>sessionQualityDim</th>\n    </tr>\n  </thead>\n  <tbody>\n    <tr>\n      <th>0</th>\n      <td>None</td>\n      <td>7598107164796351257</td>\n      <td>1</td>\n      <td>1</td>\n      <td>1</td>\n      <td>None</td>\n      <td>1</td>\n      <td>None</td>\n      <td>None</td>\n      <td>1</td>\n      <td>None</td>\n      <td>None</td>\n      <td>None</td>\n      <td>None</td>\n      <td>None</td>\n    </tr>\n    <tr>\n      <th>1</th>\n      <td>None</td>\n      <td>5909713377620782980</td>\n      <td>1</td>\n      <td>1</td>\n      <td>1</td>\n      <td>None</td>\n      <td>1</td>\n      <td>None</td>\n      <td>None</td>\n      <td>1</td>\n      <td>None</td>\n      <td>None</td>\n      <td>None</td>\n      <td>None</td>\n      <td>None</td>\n    </tr>\n    <tr>\n      <th>2</th>\n      <td>None</td>\n      <td>1119565409681207118</td>\n      <td>1</td>\n      <td>1</td>\n      <td>1</td>\n      <td>None</td>\n      <td>1</td>\n      <td>None</td>\n      <td>None</td>\n      <td>1</td>\n      <td>None</td>\n      <td>None</td>\n      <td>None</td>\n      <td>None</td>\n      <td>None</td>\n    </tr>\n    <tr>\n      <th>3</th>\n      <td>None</td>\n      <td>2151631661398435396</td>\n      <td>1</td>\n      <td>1</td>\n      <td>1</td>\n      <td>None</td>\n      <td>1</td>\n      <td>None</td>\n      <td>None</td>\n      <td>1</td>\n      <td>None</td>\n      <td>None</td>\n      <td>None</td>\n      <td>None</td>\n      <td>None</td>\n    </tr>\n    <tr>\n      <th>4</th>\n      <td>None</td>\n      <td>2004769516783991626</td>\n      <td>1</td>\n      <td>1</td>\n      <td>1</td>\n      <td>None</td>\n      <td>1</td>\n      <td>None</td>\n      <td>None</td>\n      <td>1</td>\n      <td>None</td>\n      <td>None</td>\n      <td>None</td>\n      <td>None</td>\n      <td>None</td>\n    </tr>\n  </tbody>\n</table>\n</div>"
     },
     "metadata": {},
     "execution_count": 13
    }
   ],
   "source": [
    "query = f''' \n",
    "    SELECT visitorId, fullVisitorId, totals.* \n",
    "    FROM `bigquery-public-data.google_analytics_sample.ga_sessions_*` \n",
    "    WHERE _TABLE_SUFFIX between '20160801' and '20160901' \n",
    "    LIMIT 5 \n",
    "    '''\n",
    "data = CLIENT.query(query).result().to_dataframe()\n",
    "data"
   ]
  },
  {
   "cell_type": "code",
   "execution_count": 14,
   "metadata": {},
   "outputs": [
    {
     "output_type": "execute_result",
     "data": {
      "text/plain": [
       "15"
      ]
     },
     "metadata": {},
     "execution_count": 14
    }
   ],
   "source": [
    "data.shape[1]"
   ]
  },
  {
   "source": [
    "15 subfields in the `totals` column. Key here will be `transactions` and `transactionRevenue`."
   ],
   "cell_type": "markdown",
   "metadata": {}
  },
  {
   "cell_type": "code",
   "execution_count": 15,
   "metadata": {},
   "outputs": [
    {
     "output_type": "execute_result",
     "data": {
      "text/plain": [
       "  referralPath   campaign    source   medium         keyword adContent  \\\n",
       "0         None  (not set)    google  organic  (not provided)      None   \n",
       "1         None  (not set)    google  organic  (not provided)      None   \n",
       "2         None  (not set)  (direct)   (none)            None      None   \n",
       "3         None  (not set)    google  organic  (not provided)      None   \n",
       "4         None  (not set)    google  organic  (not provided)      None   \n",
       "\n",
       "                                    adwordsClickInfo isTrueDirect campaignCode  \n",
       "0  {'campaignId': None, 'adGroupId': None, 'creat...         True         None  \n",
       "1  {'campaignId': None, 'adGroupId': None, 'creat...         True         None  \n",
       "2  {'campaignId': None, 'adGroupId': None, 'creat...         True         None  \n",
       "3  {'campaignId': None, 'adGroupId': None, 'creat...         None         None  \n",
       "4  {'campaignId': None, 'adGroupId': None, 'creat...         True         None  "
      ],
      "text/html": "<div>\n<style scoped>\n    .dataframe tbody tr th:only-of-type {\n        vertical-align: middle;\n    }\n\n    .dataframe tbody tr th {\n        vertical-align: top;\n    }\n\n    .dataframe thead th {\n        text-align: right;\n    }\n</style>\n<table border=\"1\" class=\"dataframe\">\n  <thead>\n    <tr style=\"text-align: right;\">\n      <th></th>\n      <th>referralPath</th>\n      <th>campaign</th>\n      <th>source</th>\n      <th>medium</th>\n      <th>keyword</th>\n      <th>adContent</th>\n      <th>adwordsClickInfo</th>\n      <th>isTrueDirect</th>\n      <th>campaignCode</th>\n    </tr>\n  </thead>\n  <tbody>\n    <tr>\n      <th>0</th>\n      <td>None</td>\n      <td>(not set)</td>\n      <td>google</td>\n      <td>organic</td>\n      <td>(not provided)</td>\n      <td>None</td>\n      <td>{'campaignId': None, 'adGroupId': None, 'creat...</td>\n      <td>True</td>\n      <td>None</td>\n    </tr>\n    <tr>\n      <th>1</th>\n      <td>None</td>\n      <td>(not set)</td>\n      <td>google</td>\n      <td>organic</td>\n      <td>(not provided)</td>\n      <td>None</td>\n      <td>{'campaignId': None, 'adGroupId': None, 'creat...</td>\n      <td>True</td>\n      <td>None</td>\n    </tr>\n    <tr>\n      <th>2</th>\n      <td>None</td>\n      <td>(not set)</td>\n      <td>(direct)</td>\n      <td>(none)</td>\n      <td>None</td>\n      <td>None</td>\n      <td>{'campaignId': None, 'adGroupId': None, 'creat...</td>\n      <td>True</td>\n      <td>None</td>\n    </tr>\n    <tr>\n      <th>3</th>\n      <td>None</td>\n      <td>(not set)</td>\n      <td>google</td>\n      <td>organic</td>\n      <td>(not provided)</td>\n      <td>None</td>\n      <td>{'campaignId': None, 'adGroupId': None, 'creat...</td>\n      <td>None</td>\n      <td>None</td>\n    </tr>\n    <tr>\n      <th>4</th>\n      <td>None</td>\n      <td>(not set)</td>\n      <td>google</td>\n      <td>organic</td>\n      <td>(not provided)</td>\n      <td>None</td>\n      <td>{'campaignId': None, 'adGroupId': None, 'creat...</td>\n      <td>True</td>\n      <td>None</td>\n    </tr>\n  </tbody>\n</table>\n</div>"
     },
     "metadata": {},
     "execution_count": 15
    }
   ],
   "source": [
    "query = f''' \n",
    "    SELECT trafficSource.* \n",
    "    FROM `bigquery-public-data.google_analytics_sample.ga_sessions_*` \n",
    "    WHERE _TABLE_SUFFIX between '20160801' and '20160901' \n",
    "    LIMIT 50\n",
    "    '''\n",
    "data = CLIENT.query(query).result().to_dataframe()\n",
    "data.head()"
   ]
  },
  {
   "cell_type": "code",
   "execution_count": 16,
   "metadata": {},
   "outputs": [
    {
     "output_type": "execute_result",
     "data": {
      "text/plain": [
       "9"
      ]
     },
     "metadata": {},
     "execution_count": 16
    }
   ],
   "source": [
    "data.shape[1]"
   ]
  },
  {
   "cell_type": "code",
   "execution_count": 17,
   "metadata": {},
   "outputs": [
    {
     "output_type": "execute_result",
     "data": {
      "text/plain": [
       "{'campaignId': None,\n",
       " 'adGroupId': None,\n",
       " 'creativeId': None,\n",
       " 'criteriaId': None,\n",
       " 'page': None,\n",
       " 'slot': None,\n",
       " 'criteriaParameters': 'not available in demo dataset',\n",
       " 'gclId': None,\n",
       " 'customerId': None,\n",
       " 'adNetworkType': None,\n",
       " 'targetingCriteria': None,\n",
       " 'isVideoAd': None}"
      ]
     },
     "metadata": {},
     "execution_count": 17
    }
   ],
   "source": [
    "data['adwordsClickInfo'].values[42]"
   ]
  },
  {
   "source": [
    "The `trafficSource` column also has interesting sub-fields to look at. Sadly it doesn't seem that `adwordsClickInfo` is one of them. \n",
    "\n",
    "---\n",
    "\n",
    "Finally lets look at the direct columns to see the type of data involved and better understand its meaning in context. "
   ],
   "cell_type": "markdown",
   "metadata": {}
  },
  {
   "cell_type": "code",
   "execution_count": 18,
   "metadata": {},
   "outputs": [],
   "source": [
    "query = f''' \n",
    "    SELECT  fullvisitorId, channelGrouping, clientId, socialEngagementType, userId, visitId, visitNumber, visitStartTime, visitorId\t\n",
    "    FROM `bigquery-public-data.google_analytics_sample.ga_sessions_*` \n",
    "    WHERE _TABLE_SUFFIX between '20170701' and '20170801'\n",
    "    LIMIT 50\n",
    "    '''\n",
    "data = CLIENT.query(query).result().to_dataframe()"
   ]
  },
  {
   "cell_type": "code",
   "execution_count": 19,
   "metadata": {},
   "outputs": [
    {
     "output_type": "execute_result",
     "data": {
      "text/plain": [
       "          fullvisitorId channelGrouping clientId  socialEngagementType userId  \\\n",
       "33  5351779873412793500  Organic Search     None  Not Socially Engaged   None   \n",
       "15  8427834733388537860          Direct     None  Not Socially Engaged   None   \n",
       "36  2367696628094623267  Organic Search     None  Not Socially Engaged   None   \n",
       "30  1505241938886140895  Organic Search     None  Not Socially Engaged   None   \n",
       "41  1239322026227601116  Organic Search     None  Not Socially Engaged   None   \n",
       "\n",
       "       visitId  visitNumber  visitStartTime visitorId  \n",
       "33  1500201625            1      1500201625      None  \n",
       "15  1500258307            1      1500258307      None  \n",
       "36  1500230597            1      1500230597      None  \n",
       "30  1500269334            1      1500269334      None  \n",
       "41  1500192670            1      1500192670      None  "
      ],
      "text/html": "<div>\n<style scoped>\n    .dataframe tbody tr th:only-of-type {\n        vertical-align: middle;\n    }\n\n    .dataframe tbody tr th {\n        vertical-align: top;\n    }\n\n    .dataframe thead th {\n        text-align: right;\n    }\n</style>\n<table border=\"1\" class=\"dataframe\">\n  <thead>\n    <tr style=\"text-align: right;\">\n      <th></th>\n      <th>fullvisitorId</th>\n      <th>channelGrouping</th>\n      <th>clientId</th>\n      <th>socialEngagementType</th>\n      <th>userId</th>\n      <th>visitId</th>\n      <th>visitNumber</th>\n      <th>visitStartTime</th>\n      <th>visitorId</th>\n    </tr>\n  </thead>\n  <tbody>\n    <tr>\n      <th>33</th>\n      <td>5351779873412793500</td>\n      <td>Organic Search</td>\n      <td>None</td>\n      <td>Not Socially Engaged</td>\n      <td>None</td>\n      <td>1500201625</td>\n      <td>1</td>\n      <td>1500201625</td>\n      <td>None</td>\n    </tr>\n    <tr>\n      <th>15</th>\n      <td>8427834733388537860</td>\n      <td>Direct</td>\n      <td>None</td>\n      <td>Not Socially Engaged</td>\n      <td>None</td>\n      <td>1500258307</td>\n      <td>1</td>\n      <td>1500258307</td>\n      <td>None</td>\n    </tr>\n    <tr>\n      <th>36</th>\n      <td>2367696628094623267</td>\n      <td>Organic Search</td>\n      <td>None</td>\n      <td>Not Socially Engaged</td>\n      <td>None</td>\n      <td>1500230597</td>\n      <td>1</td>\n      <td>1500230597</td>\n      <td>None</td>\n    </tr>\n    <tr>\n      <th>30</th>\n      <td>1505241938886140895</td>\n      <td>Organic Search</td>\n      <td>None</td>\n      <td>Not Socially Engaged</td>\n      <td>None</td>\n      <td>1500269334</td>\n      <td>1</td>\n      <td>1500269334</td>\n      <td>None</td>\n    </tr>\n    <tr>\n      <th>41</th>\n      <td>1239322026227601116</td>\n      <td>Organic Search</td>\n      <td>None</td>\n      <td>Not Socially Engaged</td>\n      <td>None</td>\n      <td>1500192670</td>\n      <td>1</td>\n      <td>1500192670</td>\n      <td>None</td>\n    </tr>\n  </tbody>\n</table>\n</div>"
     },
     "metadata": {},
     "execution_count": 19
    }
   ],
   "source": [
    "data.sample(5)"
   ]
  },
  {
   "source": [
    "Interestingly we see that `fullvisitorId` number 0288998128011317800 has `7` listed in visitNumber.  It is assumned that we have seen visitor: 0288998128011317800 at least 7 times.\n",
    "\n",
    "Let's check the data to see if that means what I think it means. Let's pull the query back the full year and look for that `fullvisitorId` to see if we have more than one record and if the `visitNumber` increments accordingly. \n",
    "\n",
    "Understand that this visitor may have come to the site before the August 2016, but perhaps we can still see the visitor count increment. "
   ],
   "cell_type": "markdown",
   "metadata": {}
  },
  {
   "cell_type": "code",
   "execution_count": 20,
   "metadata": {},
   "outputs": [],
   "source": [
    "query = f''' \n",
    "    SELECT  fullvisitorId, channelGrouping, clientId, socialEngagementType, userId, visitId, visitNumber, visitStartTime, visitorId\t\n",
    "    FROM `bigquery-public-data.google_analytics_sample.ga_sessions_*` \n",
    "    WHERE _TABLE_SUFFIX between '20160801' and '20170801' and fullvisitorId = '0288998128011317800'\n",
    "    LIMIT 50\n",
    "    '''\n",
    "data = CLIENT.query(query).result().to_dataframe()"
   ]
  },
  {
   "cell_type": "code",
   "execution_count": 21,
   "metadata": {},
   "outputs": [
    {
     "output_type": "execute_result",
     "data": {
      "text/plain": [
       "         fullvisitorId channelGrouping clientId  socialEngagementType userId  \\\n",
       "0  0288998128011317800  Organic Search     None  Not Socially Engaged   None   \n",
       "1  0288998128011317800  Organic Search     None  Not Socially Engaged   None   \n",
       "2  0288998128011317800  Organic Search     None  Not Socially Engaged   None   \n",
       "3  0288998128011317800  Organic Search     None  Not Socially Engaged   None   \n",
       "4  0288998128011317800  Organic Search     None  Not Socially Engaged   None   \n",
       "5  0288998128011317800  Organic Search     None  Not Socially Engaged   None   \n",
       "6  0288998128011317800  Organic Search     None  Not Socially Engaged   None   \n",
       "7  0288998128011317800  Organic Search     None  Not Socially Engaged   None   \n",
       "8  0288998128011317800  Organic Search     None  Not Socially Engaged   None   \n",
       "\n",
       "      visitId  visitNumber  visitStartTime visitorId  \n",
       "0  1498637120            6      1498637120      None  \n",
       "1  1491825966            1      1491825966      None  \n",
       "2  1498978602            7      1498979704      None  \n",
       "3  1498978602            7      1498978602      None  \n",
       "4  1494753995            5      1494753995      None  \n",
       "5  1492967657            4      1492967657      None  \n",
       "6  1500035030            8      1500035030      None  \n",
       "7  1492085541            2      1492085541      None  \n",
       "8  1492506599            3      1492506599      None  "
      ],
      "text/html": "<div>\n<style scoped>\n    .dataframe tbody tr th:only-of-type {\n        vertical-align: middle;\n    }\n\n    .dataframe tbody tr th {\n        vertical-align: top;\n    }\n\n    .dataframe thead th {\n        text-align: right;\n    }\n</style>\n<table border=\"1\" class=\"dataframe\">\n  <thead>\n    <tr style=\"text-align: right;\">\n      <th></th>\n      <th>fullvisitorId</th>\n      <th>channelGrouping</th>\n      <th>clientId</th>\n      <th>socialEngagementType</th>\n      <th>userId</th>\n      <th>visitId</th>\n      <th>visitNumber</th>\n      <th>visitStartTime</th>\n      <th>visitorId</th>\n    </tr>\n  </thead>\n  <tbody>\n    <tr>\n      <th>0</th>\n      <td>0288998128011317800</td>\n      <td>Organic Search</td>\n      <td>None</td>\n      <td>Not Socially Engaged</td>\n      <td>None</td>\n      <td>1498637120</td>\n      <td>6</td>\n      <td>1498637120</td>\n      <td>None</td>\n    </tr>\n    <tr>\n      <th>1</th>\n      <td>0288998128011317800</td>\n      <td>Organic Search</td>\n      <td>None</td>\n      <td>Not Socially Engaged</td>\n      <td>None</td>\n      <td>1491825966</td>\n      <td>1</td>\n      <td>1491825966</td>\n      <td>None</td>\n    </tr>\n    <tr>\n      <th>2</th>\n      <td>0288998128011317800</td>\n      <td>Organic Search</td>\n      <td>None</td>\n      <td>Not Socially Engaged</td>\n      <td>None</td>\n      <td>1498978602</td>\n      <td>7</td>\n      <td>1498979704</td>\n      <td>None</td>\n    </tr>\n    <tr>\n      <th>3</th>\n      <td>0288998128011317800</td>\n      <td>Organic Search</td>\n      <td>None</td>\n      <td>Not Socially Engaged</td>\n      <td>None</td>\n      <td>1498978602</td>\n      <td>7</td>\n      <td>1498978602</td>\n      <td>None</td>\n    </tr>\n    <tr>\n      <th>4</th>\n      <td>0288998128011317800</td>\n      <td>Organic Search</td>\n      <td>None</td>\n      <td>Not Socially Engaged</td>\n      <td>None</td>\n      <td>1494753995</td>\n      <td>5</td>\n      <td>1494753995</td>\n      <td>None</td>\n    </tr>\n    <tr>\n      <th>5</th>\n      <td>0288998128011317800</td>\n      <td>Organic Search</td>\n      <td>None</td>\n      <td>Not Socially Engaged</td>\n      <td>None</td>\n      <td>1492967657</td>\n      <td>4</td>\n      <td>1492967657</td>\n      <td>None</td>\n    </tr>\n    <tr>\n      <th>6</th>\n      <td>0288998128011317800</td>\n      <td>Organic Search</td>\n      <td>None</td>\n      <td>Not Socially Engaged</td>\n      <td>None</td>\n      <td>1500035030</td>\n      <td>8</td>\n      <td>1500035030</td>\n      <td>None</td>\n    </tr>\n    <tr>\n      <th>7</th>\n      <td>0288998128011317800</td>\n      <td>Organic Search</td>\n      <td>None</td>\n      <td>Not Socially Engaged</td>\n      <td>None</td>\n      <td>1492085541</td>\n      <td>2</td>\n      <td>1492085541</td>\n      <td>None</td>\n    </tr>\n    <tr>\n      <th>8</th>\n      <td>0288998128011317800</td>\n      <td>Organic Search</td>\n      <td>None</td>\n      <td>Not Socially Engaged</td>\n      <td>None</td>\n      <td>1492506599</td>\n      <td>3</td>\n      <td>1492506599</td>\n      <td>None</td>\n    </tr>\n  </tbody>\n</table>\n</div>"
     },
     "metadata": {},
     "execution_count": 21
    }
   ],
   "source": [
    "data"
   ]
  },
  {
   "source": [
    "Indeed we can see that user has come to the size at least 8 times during the year we have data for. This confirms that we can use `visitNumber` in the way I assumed to help analyse the data.\n",
    "\n",
    "---\n",
    "\n",
    "Following this test, I will also test to be sure that dates also line up with this and look for transactionTotal amounts to determine if these are cumulative for the lifetime of the visitor.\n",
    "\n",
    "First I will need to find a visitor that has many visit and at least a couple of trnasactions.\n",
    "\n"
   ],
   "cell_type": "markdown",
   "metadata": {}
  },
  {
   "cell_type": "code",
   "execution_count": 22,
   "metadata": {},
   "outputs": [],
   "source": [
    "query = f''' \n",
    "    SELECT  fullvisitorId, AVG(visitNumber), sum(totals.transactions), sum(totals.transactionRevenue), sum(totals.totalTransactionRevenue)\n",
    "    FROM `bigquery-public-data.google_analytics_sample.ga_sessions_*` \n",
    "    WHERE _TABLE_SUFFIX between '20160801' and '20170801' and visitNumber > 1 and channelGrouping = 'Display'\n",
    "    GROUP BY fullvisitorId\n",
    "    LIMIT 50\n",
    "    '''\n",
    "data = CLIENT.query(query).result().to_dataframe()"
   ]
  },
  {
   "cell_type": "code",
   "execution_count": 23,
   "metadata": {},
   "outputs": [
    {
     "output_type": "execute_result",
     "data": {
      "text/plain": [
       "          fullvisitorId       f0_  f1_          f2_          f3_\n",
       "24  7272617006657421843  5.500000  1.0   40550000.0   49550000.0\n",
       "29  0220695720492664721  3.666667  1.0   46370000.0   54370000.0\n",
       "37  2549182723988683065  2.500000  1.0  187650000.0  188650000.0"
      ],
      "text/html": "<div>\n<style scoped>\n    .dataframe tbody tr th:only-of-type {\n        vertical-align: middle;\n    }\n\n    .dataframe tbody tr th {\n        vertical-align: top;\n    }\n\n    .dataframe thead th {\n        text-align: right;\n    }\n</style>\n<table border=\"1\" class=\"dataframe\">\n  <thead>\n    <tr style=\"text-align: right;\">\n      <th></th>\n      <th>fullvisitorId</th>\n      <th>f0_</th>\n      <th>f1_</th>\n      <th>f2_</th>\n      <th>f3_</th>\n    </tr>\n  </thead>\n  <tbody>\n    <tr>\n      <th>24</th>\n      <td>7272617006657421843</td>\n      <td>5.500000</td>\n      <td>1.0</td>\n      <td>40550000.0</td>\n      <td>49550000.0</td>\n    </tr>\n    <tr>\n      <th>29</th>\n      <td>0220695720492664721</td>\n      <td>3.666667</td>\n      <td>1.0</td>\n      <td>46370000.0</td>\n      <td>54370000.0</td>\n    </tr>\n    <tr>\n      <th>37</th>\n      <td>2549182723988683065</td>\n      <td>2.500000</td>\n      <td>1.0</td>\n      <td>187650000.0</td>\n      <td>188650000.0</td>\n    </tr>\n  </tbody>\n</table>\n</div>"
     },
     "metadata": {},
     "execution_count": 23
    }
   ],
   "source": [
    "data.loc[data['f1_'].notna()]"
   ]
  },
  {
   "cell_type": "code",
   "execution_count": 24,
   "metadata": {},
   "outputs": [],
   "source": [
    "query = f''' \n",
    "    SELECT  fullvisitorId, date, visitId, visitNumber, visitStartTime, visitorId, totals.transactions, totals.transactionRevenue, totals.totalTransactionRevenue\n",
    "    FROM `bigquery-public-data.google_analytics_sample.ga_sessions_*` \n",
    "    WHERE _TABLE_SUFFIX between '20160801' and '20170801' and fullvisitorId = '4085972867127024343'\n",
    "    LIMIT 50\n",
    "    '''\n",
    "data = CLIENT.query(query).result().to_dataframe()"
   ]
  },
  {
   "cell_type": "code",
   "execution_count": 25,
   "metadata": {},
   "outputs": [
    {
     "output_type": "execute_result",
     "data": {
      "text/plain": [
       "         fullvisitorId      date     visitId  visitNumber  visitStartTime  \\\n",
       "0  4085972867127024343  20161014  1476453496            1      1476453496   \n",
       "9  4085972867127024343  20161101  1478033380            2      1478033380   \n",
       "4  4085972867127024343  20161107  1478547833            3      1478547833   \n",
       "5  4085972867127024343  20161107  1478550684            4      1478550684   \n",
       "6  4085972867127024343  20161110  1478808651            7      1478808651   \n",
       "2  4085972867127024343  20161113  1479097793            8      1479097793   \n",
       "7  4085972867127024343  20161120  1479676039            9      1479676039   \n",
       "1  4085972867127024343  20161121  1479760240           10      1479760240   \n",
       "8  4085972867127024343  20161122  1479856417           11      1479856417   \n",
       "3  4085972867127024343  20161213  1481660216           12      1481660216   \n",
       "\n",
       "  visitorId  transactions  transactionRevenue  totalTransactionRevenue  \n",
       "0      None           NaN                 NaN                      NaN  \n",
       "9      None           NaN                 NaN                      NaN  \n",
       "4      None           NaN                 NaN                      NaN  \n",
       "5      None           1.0          19190000.0               26190000.0  \n",
       "6      None           NaN                 NaN                      NaN  \n",
       "2      None           1.0          19190000.0               24190000.0  \n",
       "7      None           NaN                 NaN                      NaN  \n",
       "1      None           NaN                 NaN                      NaN  \n",
       "8      None           1.0          23990000.0               29990000.0  \n",
       "3      None           1.0          19190000.0               22190000.0  "
      ],
      "text/html": "<div>\n<style scoped>\n    .dataframe tbody tr th:only-of-type {\n        vertical-align: middle;\n    }\n\n    .dataframe tbody tr th {\n        vertical-align: top;\n    }\n\n    .dataframe thead th {\n        text-align: right;\n    }\n</style>\n<table border=\"1\" class=\"dataframe\">\n  <thead>\n    <tr style=\"text-align: right;\">\n      <th></th>\n      <th>fullvisitorId</th>\n      <th>date</th>\n      <th>visitId</th>\n      <th>visitNumber</th>\n      <th>visitStartTime</th>\n      <th>visitorId</th>\n      <th>transactions</th>\n      <th>transactionRevenue</th>\n      <th>totalTransactionRevenue</th>\n    </tr>\n  </thead>\n  <tbody>\n    <tr>\n      <th>0</th>\n      <td>4085972867127024343</td>\n      <td>20161014</td>\n      <td>1476453496</td>\n      <td>1</td>\n      <td>1476453496</td>\n      <td>None</td>\n      <td>NaN</td>\n      <td>NaN</td>\n      <td>NaN</td>\n    </tr>\n    <tr>\n      <th>9</th>\n      <td>4085972867127024343</td>\n      <td>20161101</td>\n      <td>1478033380</td>\n      <td>2</td>\n      <td>1478033380</td>\n      <td>None</td>\n      <td>NaN</td>\n      <td>NaN</td>\n      <td>NaN</td>\n    </tr>\n    <tr>\n      <th>4</th>\n      <td>4085972867127024343</td>\n      <td>20161107</td>\n      <td>1478547833</td>\n      <td>3</td>\n      <td>1478547833</td>\n      <td>None</td>\n      <td>NaN</td>\n      <td>NaN</td>\n      <td>NaN</td>\n    </tr>\n    <tr>\n      <th>5</th>\n      <td>4085972867127024343</td>\n      <td>20161107</td>\n      <td>1478550684</td>\n      <td>4</td>\n      <td>1478550684</td>\n      <td>None</td>\n      <td>1.0</td>\n      <td>19190000.0</td>\n      <td>26190000.0</td>\n    </tr>\n    <tr>\n      <th>6</th>\n      <td>4085972867127024343</td>\n      <td>20161110</td>\n      <td>1478808651</td>\n      <td>7</td>\n      <td>1478808651</td>\n      <td>None</td>\n      <td>NaN</td>\n      <td>NaN</td>\n      <td>NaN</td>\n    </tr>\n    <tr>\n      <th>2</th>\n      <td>4085972867127024343</td>\n      <td>20161113</td>\n      <td>1479097793</td>\n      <td>8</td>\n      <td>1479097793</td>\n      <td>None</td>\n      <td>1.0</td>\n      <td>19190000.0</td>\n      <td>24190000.0</td>\n    </tr>\n    <tr>\n      <th>7</th>\n      <td>4085972867127024343</td>\n      <td>20161120</td>\n      <td>1479676039</td>\n      <td>9</td>\n      <td>1479676039</td>\n      <td>None</td>\n      <td>NaN</td>\n      <td>NaN</td>\n      <td>NaN</td>\n    </tr>\n    <tr>\n      <th>1</th>\n      <td>4085972867127024343</td>\n      <td>20161121</td>\n      <td>1479760240</td>\n      <td>10</td>\n      <td>1479760240</td>\n      <td>None</td>\n      <td>NaN</td>\n      <td>NaN</td>\n      <td>NaN</td>\n    </tr>\n    <tr>\n      <th>8</th>\n      <td>4085972867127024343</td>\n      <td>20161122</td>\n      <td>1479856417</td>\n      <td>11</td>\n      <td>1479856417</td>\n      <td>None</td>\n      <td>1.0</td>\n      <td>23990000.0</td>\n      <td>29990000.0</td>\n    </tr>\n    <tr>\n      <th>3</th>\n      <td>4085972867127024343</td>\n      <td>20161213</td>\n      <td>1481660216</td>\n      <td>12</td>\n      <td>1481660216</td>\n      <td>None</td>\n      <td>1.0</td>\n      <td>19190000.0</td>\n      <td>22190000.0</td>\n    </tr>\n  </tbody>\n</table>\n</div>"
     },
     "metadata": {},
     "execution_count": 25
    }
   ],
   "source": [
    "data.sort_values('visitNumber')"
   ]
  },
  {
   "source": [
    "Great. Now we can see that `totalTransactionRevenue` is not cumalitive across a visitors lifetime. In fact it looks like the value is incrementally higher than the `transactionRevenue` column. I think we can assume that a `totalTransactionRevenue` is something like tax or shipping costs.\n",
    "\n",
    "----\n",
    "\n",
    "Now, can Transactions ever be more than 1 in a single record?  Meaning do transactions represent items in an order? "
   ],
   "cell_type": "markdown",
   "metadata": {}
  },
  {
   "cell_type": "code",
   "execution_count": 26,
   "metadata": {},
   "outputs": [],
   "source": [
    "query = f''' \n",
    "    SELECT totals.transactions\n",
    "    FROM `bigquery-public-data.google_analytics_sample.ga_sessions_*` \n",
    "    WHERE _TABLE_SUFFIX between '20160801' and '20170801' and totals.transactions > 1\n",
    "    LIMIT 50\n",
    "    '''\n",
    "data = CLIENT.query(query).result().to_dataframe()"
   ]
  },
  {
   "cell_type": "code",
   "execution_count": 27,
   "metadata": {},
   "outputs": [
    {
     "output_type": "execute_result",
     "data": {
      "text/plain": [
       "   transactions\n",
       "0             2\n",
       "1             2\n",
       "2             2\n",
       "3             5\n",
       "4             2"
      ],
      "text/html": "<div>\n<style scoped>\n    .dataframe tbody tr th:only-of-type {\n        vertical-align: middle;\n    }\n\n    .dataframe tbody tr th {\n        vertical-align: top;\n    }\n\n    .dataframe thead th {\n        text-align: right;\n    }\n</style>\n<table border=\"1\" class=\"dataframe\">\n  <thead>\n    <tr style=\"text-align: right;\">\n      <th></th>\n      <th>transactions</th>\n    </tr>\n  </thead>\n  <tbody>\n    <tr>\n      <th>0</th>\n      <td>2</td>\n    </tr>\n    <tr>\n      <th>1</th>\n      <td>2</td>\n    </tr>\n    <tr>\n      <th>2</th>\n      <td>2</td>\n    </tr>\n    <tr>\n      <th>3</th>\n      <td>5</td>\n    </tr>\n    <tr>\n      <th>4</th>\n      <td>2</td>\n    </tr>\n  </tbody>\n</table>\n</div>"
     },
     "metadata": {},
     "execution_count": 27
    }
   ],
   "source": [
    "data.head()"
   ]
  },
  {
   "source": [
    "Indeed they do.  \n",
    "\n",
    "Now I know that transactions must have represent the number of items in an order. We can use this to look for visitors that purchase more than one item. "
   ],
   "cell_type": "markdown",
   "metadata": {}
  },
  {
   "source": [
    "## Three Questions of the data\n",
    "\n",
    "1. Do macOS/iOS affected by traffic source in the same way... organic, paid display. Are targeted ads less effective on iOS? \n",
    "\n",
    "2. Do macOS/iOS users purchase more than windows/android users?\n",
    "\n",
    "3. Is there a correlation of refering traffic to higher average order value?\n",
    "\n"
   ],
   "cell_type": "markdown",
   "metadata": {}
  },
  {
   "source": [
    "--- \n",
    "\n",
    "First give a sense of how much traffic is coming to the site. "
   ],
   "cell_type": "markdown",
   "metadata": {}
  },
  {
   "cell_type": "code",
   "execution_count": 28,
   "metadata": {},
   "outputs": [],
   "source": [
    "query = f''' \n",
    "    SELECT device.operatingSystem, count(device.operatingSystem)\n",
    "    FROM `bigquery-public-data.google_analytics_sample.ga_sessions_*`\n",
    "    GROUP BY device.operatingSystem\n",
    "    ;\n",
    "    '''\n",
    "data = CLIENT.query(query).result().to_dataframe()"
   ]
  },
  {
   "cell_type": "code",
   "execution_count": 29,
   "metadata": {},
   "outputs": [],
   "source": [
    "data = data.loc[data['f0_']>5000].sort_values('f0_', ascending=False)"
   ]
  },
  {
   "cell_type": "code",
   "execution_count": 30,
   "metadata": {},
   "outputs": [],
   "source": [
    "data['f0_'] = data['f0_'].div(data['f0_'].sum(axis=0))"
   ]
  },
  {
   "cell_type": "code",
   "execution_count": 31,
   "metadata": {},
   "outputs": [
    {
     "output_type": "display_data",
     "data": {
      "text/html": "        <script type=\"text/javascript\">\n        window.PlotlyConfig = {MathJaxConfig: 'local'};\n        if (window.MathJax) {MathJax.Hub.Config({SVG: {font: \"STIX-Web\"}});}\n        if (typeof require !== 'undefined') {\n        require.undef(\"plotly\");\n        requirejs.config({\n            paths: {\n                'plotly': ['https://cdn.plot.ly/plotly-latest.min']\n            }\n        });\n        require(['plotly'], function(Plotly) {\n            window._Plotly = Plotly;\n        });\n        }\n        </script>\n        "
     },
     "metadata": {}
    },
    {
     "output_type": "display_data",
     "data": {
      "text/html": "<div>\n        \n        \n            <div id=\"97d50a69-c3ce-4a6b-ae11-bb9fcc27e06e\" class=\"plotly-graph-div\" style=\"height:525px; width:100%;\"></div>\n            <script type=\"text/javascript\">\n                require([\"plotly\"], function(Plotly) {\n                    window.PLOTLYENV=window.PLOTLYENV || {};\n                    \n                if (document.getElementById(\"97d50a69-c3ce-4a6b-ae11-bb9fcc27e06e\")) {\n                    Plotly.newPlot(\n                        '97d50a69-c3ce-4a6b-ae11-bb9fcc27e06e',\n                        [{\"type\": \"bar\", \"x\": [\"Windows\", \"Macintosh\", \"Android\", \"iOS\", \"Linux\", \"Chrome OS\"], \"y\": [0.3902967652167708, 0.2831165587810975, 0.13812771897277182, 0.12003616749429727, 0.03905955595593007, 0.02936323357913256]}],\n                        {\"template\": {\"layout\": {\"annotationdefaults\": {\"arrowcolor\": \"#f2f5fa\", \"arrowhead\": 0, \"arrowwidth\": 1}, \"coloraxis\": {\"colorbar\": {\"outlinewidth\": 0, \"ticks\": \"\"}}, \"colorscale\": {\"diverging\": [[0, \"#8e0152\"], [0.1, \"#c51b7d\"], [0.2, \"#de77ae\"], [0.3, \"#f1b6da\"], [0.4, \"#fde0ef\"], [0.5, \"#f7f7f7\"], [0.6, \"#e6f5d0\"], [0.7, \"#b8e186\"], [0.8, \"#7fbc41\"], [0.9, \"#4d9221\"], [1, \"#276419\"]], \"sequential\": [[0.0, \"#0d0887\"], [0.1111111111111111, \"#46039f\"], [0.2222222222222222, \"#7201a8\"], [0.3333333333333333, \"#9c179e\"], [0.4444444444444444, \"#bd3786\"], [0.5555555555555556, \"#d8576b\"], [0.6666666666666666, \"#ed7953\"], [0.7777777777777778, \"#fb9f3a\"], [0.8888888888888888, \"#fdca26\"], [1.0, \"#f0f921\"]], \"sequentialminus\": [[0.0, \"#0d0887\"], [0.1111111111111111, \"#46039f\"], [0.2222222222222222, \"#7201a8\"], [0.3333333333333333, \"#9c179e\"], [0.4444444444444444, \"#bd3786\"], [0.5555555555555556, \"#d8576b\"], [0.6666666666666666, \"#ed7953\"], [0.7777777777777778, \"#fb9f3a\"], [0.8888888888888888, \"#fdca26\"], [1.0, \"#f0f921\"]]}, \"colorway\": [\"rgba(0, 203, 166, 0.7)\", \"rgba(168, 168, 168, 0.7)\", \"#19d3f3\", \"#00cc96\", \"#ab63fa\", \"#00CBA6\", \"#FF6692\", \"#B6E880\", \"#FF97FF\", \"#FECB52\"], \"font\": {\"color\": \"#2a3f5f\", \"family\": \"plain\"}, \"geo\": {\"bgcolor\": \"black\", \"lakecolor\": \"white\", \"landcolor\": \"white\", \"showlakes\": true, \"showland\": true, \"subunitcolor\": \"#506784\"}, \"hoverlabel\": {\"align\": \"left\"}, \"hovermode\": \"closest\", \"images\": [{\"layer\": \"below\", \"opacity\": 0.05, \"sizex\": 0.7, \"sizey\": 0.7, \"source\": \"https://product-derrick.s3.amazonaws.com/logoWhite.png\", \"x\": 0.15, \"xref\": \"paper\", \"y\": 0.75, \"yref\": \"paper\"}], \"mapbox\": {\"style\": \"light\"}, \"paper_bgcolor\": \"white\", \"plot_bgcolor\": \"white\", \"polar\": {\"angularaxis\": {\"gridcolor\": \"#506784\", \"linecolor\": \"#506784\", \"ticks\": \"\"}, \"bgcolor\": \"white\", \"radialaxis\": {\"gridcolor\": \"#506784\", \"linecolor\": \"#506784\", \"ticks\": \"\"}}, \"scene\": {\"xaxis\": {\"backgroundcolor\": \"white\", \"gridcolor\": \"#506784\", \"gridwidth\": 2, \"linecolor\": \"#506784\", \"showbackground\": true, \"ticks\": \"\", \"zerolinecolor\": \"#C8D4E3\"}, \"yaxis\": {\"backgroundcolor\": \"white\", \"gridcolor\": \"#506784\", \"gridwidth\": 2, \"linecolor\": \"#506784\", \"showbackground\": true, \"ticks\": \"\", \"zerolinecolor\": \"#C8D4E3\"}, \"zaxis\": {\"backgroundcolor\": \"rgb(17,17,17)\", \"gridcolor\": \"#506784\", \"gridwidth\": 2, \"linecolor\": \"#506784\", \"showbackground\": true, \"ticks\": \"\", \"zerolinecolor\": \"#C8D4E3\"}}, \"shapedefaults\": {\"line\": {\"color\": \"#f2f5fa\"}}, \"sliderdefaults\": {\"bgcolor\": \"#C8D4E3\", \"bordercolor\": \"rgb(17,17,17)\", \"borderwidth\": 1, \"tickwidth\": 0}, \"ternary\": {\"aaxis\": {\"gridcolor\": \"#506784\", \"linecolor\": \"#506784\", \"ticks\": \"\"}, \"baxis\": {\"gridcolor\": \"#506784\", \"linecolor\": \"#506784\", \"ticks\": \"\"}, \"bgcolor\": \"rgb(17,17,17)\", \"caxis\": {\"gridcolor\": \"#506784\", \"linecolor\": \"#506784\", \"ticks\": \"\"}}, \"title\": {\"font\": {\"size\": 24}, \"x\": 0.05}, \"updatemenudefaults\": {\"bgcolor\": \"#506784\", \"borderwidth\": 0}, \"xaxis\": {\"automargin\": true, \"gridcolor\": \"#DFE8F3\", \"linecolor\": \"#A2B1C6\", \"tickfont\": {\"color\": \"#2a3f5f\", \"family\": \"InterstateMono\", \"size\": 10}, \"ticks\": \"\", \"title\": {\"font\": {\"family\": \"Plain\", \"size\": 18}}, \"zerolinecolor\": \"#DFE8F3\", \"zerolinewidth\": 2}, \"yaxis\": {\"automargin\": true, \"gridcolor\": \"#DFE8F3\", \"linecolor\": \"#A2B1C6\", \"tickfont\": {\"color\": \"#2a3f5f\", \"family\": \"InterstateMono\", \"size\": 10}, \"ticks\": \"\", \"title\": {\"font\": {\"family\": \"plain\", \"size\": 18}}, \"zerolinecolor\": \"#DFE8F3\", \"zerolinewidth\": 2}}}, \"title\": {\"text\": \"Traffic by Operating System\"}, \"yaxis\": {\"tickformat\": \",.0%\"}},\n                        {\"responsive\": true}\n                    ).then(function(){\n                            \nvar gd = document.getElementById('97d50a69-c3ce-4a6b-ae11-bb9fcc27e06e');\nvar x = new MutationObserver(function (mutations, observer) {{\n        var display = window.getComputedStyle(gd).display;\n        if (!display || display === 'none') {{\n            console.log([gd, 'removed!']);\n            Plotly.purge(gd);\n            observer.disconnect();\n        }}\n}});\n\n// Listen for the removal of the full notebook cells\nvar notebookContainer = gd.closest('#notebook-container');\nif (notebookContainer) {{\n    x.observe(notebookContainer, {childList: true});\n}}\n\n// Listen for the clearing of the current output cell\nvar outputEl = gd.closest('.output');\nif (outputEl) {{\n    x.observe(outputEl, {childList: true});\n}}\n\n                        })\n                };\n                });\n            </script>\n        </div>"
     },
     "metadata": {}
    }
   ],
   "source": [
    "fig = go.Figure()\n",
    "fig.add_trace(\n",
    "    go.Bar(\n",
    "        y=data['f0_'],\n",
    "        x=data['operatingSystem']\n",
    "    )\n",
    ")\n",
    "fig.update_layout(title='Traffic by Operating System')\n",
    "fig.update_yaxes(tickformat=',.0%',)\n",
    "fig.show(renderer='notebook_connected')"
   ]
  },
  {
   "cell_type": "code",
   "execution_count": 32,
   "metadata": {},
   "outputs": [],
   "source": [
    "# Send Figure to Plotly Chart Studio to share on embed\n",
    "# py.plot(fig, filename = 'udacity-web-traffic', sharing='public')"
   ]
  },
  {
   "cell_type": "code",
   "execution_count": 33,
   "metadata": {},
   "outputs": [],
   "source": [
    "query = f''' \n",
    "    SELECT channelGrouping, device.operatingSystem\n",
    "    FROM `bigquery-public-data.google_analytics_sample.ga_sessions_*`\n",
    "    ;\n",
    "    '''\n",
    "data = CLIENT.query(query).result().to_dataframe()"
   ]
  },
  {
   "cell_type": "code",
   "execution_count": 34,
   "metadata": {},
   "outputs": [],
   "source": [
    "# Turn traffic source into dummy categories\n",
    "data = data.drop('channelGrouping', axis=1).join(pd.get_dummies(data['channelGrouping']))\n",
    "# Add total volume of traffic\n",
    "totals = data.groupby('operatingSystem').sum().sum(axis=1)\n",
    "# Get percentage of traffice from soruce\n",
    "data = data.groupby('operatingSystem').sum().div(data.groupby('operatingSystem').sum().sum(axis=1), axis=0)\n",
    "# Add totals onto DataFrame\n",
    "data['totals'] = totals\n",
    "# Sort Descending\n",
    "data.sort_values('totals', ascending=False, inplace=True)\n",
    "# Remove minor Operating Systems like Xbox and Windows Phone.\n",
    "data = data.loc[data['totals']>5000]"
   ]
  },
  {
   "cell_type": "code",
   "execution_count": 35,
   "metadata": {},
   "outputs": [
    {
     "output_type": "execute_result",
     "data": {
      "text/plain": [
       "                  (Other)  Affiliates    Direct   Display  Organic Search  \\\n",
       "operatingSystem                                                             \n",
       "Windows          0.000080    0.029762  0.114999  0.003222        0.416329   \n",
       "Macintosh        0.000165    0.015811  0.134419  0.009372        0.315431   \n",
       "Android          0.000178    0.008919  0.261163  0.007781        0.506433   \n",
       "iOS              0.000139    0.003920  0.190991  0.006799        0.658115   \n",
       "Linux            0.000257    0.009391  0.250243  0.018325        0.241480   \n",
       "Chrome OS        0.000114    0.003455  0.190910  0.015643        0.458784   \n",
       "\n",
       "                 Paid Search  Referral    Social    totals  \n",
       "operatingSystem                                             \n",
       "Windows             0.017956  0.065587  0.352065  350072.0  \n",
       "Macintosh           0.020619  0.221790  0.282392  253938.0  \n",
       "Android             0.051214  0.028872  0.135441  123892.0  \n",
       "iOS                 0.058357  0.018734  0.062945  107665.0  \n",
       "Linux               0.005652  0.376063  0.098590   35034.0  \n",
       "Chrome OS           0.036602  0.255344  0.039146   26337.0  "
      ],
      "text/html": "<div>\n<style scoped>\n    .dataframe tbody tr th:only-of-type {\n        vertical-align: middle;\n    }\n\n    .dataframe tbody tr th {\n        vertical-align: top;\n    }\n\n    .dataframe thead th {\n        text-align: right;\n    }\n</style>\n<table border=\"1\" class=\"dataframe\">\n  <thead>\n    <tr style=\"text-align: right;\">\n      <th></th>\n      <th>(Other)</th>\n      <th>Affiliates</th>\n      <th>Direct</th>\n      <th>Display</th>\n      <th>Organic Search</th>\n      <th>Paid Search</th>\n      <th>Referral</th>\n      <th>Social</th>\n      <th>totals</th>\n    </tr>\n    <tr>\n      <th>operatingSystem</th>\n      <th></th>\n      <th></th>\n      <th></th>\n      <th></th>\n      <th></th>\n      <th></th>\n      <th></th>\n      <th></th>\n      <th></th>\n    </tr>\n  </thead>\n  <tbody>\n    <tr>\n      <th>Windows</th>\n      <td>0.000080</td>\n      <td>0.029762</td>\n      <td>0.114999</td>\n      <td>0.003222</td>\n      <td>0.416329</td>\n      <td>0.017956</td>\n      <td>0.065587</td>\n      <td>0.352065</td>\n      <td>350072.0</td>\n    </tr>\n    <tr>\n      <th>Macintosh</th>\n      <td>0.000165</td>\n      <td>0.015811</td>\n      <td>0.134419</td>\n      <td>0.009372</td>\n      <td>0.315431</td>\n      <td>0.020619</td>\n      <td>0.221790</td>\n      <td>0.282392</td>\n      <td>253938.0</td>\n    </tr>\n    <tr>\n      <th>Android</th>\n      <td>0.000178</td>\n      <td>0.008919</td>\n      <td>0.261163</td>\n      <td>0.007781</td>\n      <td>0.506433</td>\n      <td>0.051214</td>\n      <td>0.028872</td>\n      <td>0.135441</td>\n      <td>123892.0</td>\n    </tr>\n    <tr>\n      <th>iOS</th>\n      <td>0.000139</td>\n      <td>0.003920</td>\n      <td>0.190991</td>\n      <td>0.006799</td>\n      <td>0.658115</td>\n      <td>0.058357</td>\n      <td>0.018734</td>\n      <td>0.062945</td>\n      <td>107665.0</td>\n    </tr>\n    <tr>\n      <th>Linux</th>\n      <td>0.000257</td>\n      <td>0.009391</td>\n      <td>0.250243</td>\n      <td>0.018325</td>\n      <td>0.241480</td>\n      <td>0.005652</td>\n      <td>0.376063</td>\n      <td>0.098590</td>\n      <td>35034.0</td>\n    </tr>\n    <tr>\n      <th>Chrome OS</th>\n      <td>0.000114</td>\n      <td>0.003455</td>\n      <td>0.190910</td>\n      <td>0.015643</td>\n      <td>0.458784</td>\n      <td>0.036602</td>\n      <td>0.255344</td>\n      <td>0.039146</td>\n      <td>26337.0</td>\n    </tr>\n  </tbody>\n</table>\n</div>"
     },
     "metadata": {},
     "execution_count": 35
    }
   ],
   "source": [
    "data"
   ]
  },
  {
   "cell_type": "code",
   "execution_count": 36,
   "metadata": {},
   "outputs": [],
   "source": [
    "# Reorder columns based on volume\n",
    "data = data[list(data.sum(axis=0).sort_values(ascending=False).index)]"
   ]
  },
  {
   "cell_type": "code",
   "execution_count": 37,
   "metadata": {},
   "outputs": [
    {
     "output_type": "display_data",
     "data": {
      "text/html": "        <script type=\"text/javascript\">\n        window.PlotlyConfig = {MathJaxConfig: 'local'};\n        if (window.MathJax) {MathJax.Hub.Config({SVG: {font: \"STIX-Web\"}});}\n        if (typeof require !== 'undefined') {\n        require.undef(\"plotly\");\n        requirejs.config({\n            paths: {\n                'plotly': ['https://cdn.plot.ly/plotly-latest.min']\n            }\n        });\n        require(['plotly'], function(Plotly) {\n            window._Plotly = Plotly;\n        });\n        }\n        </script>\n        "
     },
     "metadata": {}
    },
    {
     "output_type": "display_data",
     "data": {
      "text/html": "<div>\n        \n        \n            <div id=\"a9c609dc-9137-4cb3-9451-be193dcb4d45\" class=\"plotly-graph-div\" style=\"height:525px; width:100%;\"></div>\n            <script type=\"text/javascript\">\n                require([\"plotly\"], function(Plotly) {\n                    window.PLOTLYENV=window.PLOTLYENV || {};\n                    \n                if (document.getElementById(\"a9c609dc-9137-4cb3-9451-be193dcb4d45\")) {\n                    Plotly.newPlot(\n                        'a9c609dc-9137-4cb3-9451-be193dcb4d45',\n                        [{\"hovertext\": [350072.0, 253938.0, 123892.0, 107665.0, 35034.0, 26337.0], \"name\": \"Organic Search\", \"type\": \"bar\", \"x\": [\"Windows\", \"Macintosh\", \"Android\", \"iOS\", \"Linux\", \"Chrome OS\"], \"y\": [0.41632864096528716, 0.31543132575668076, 0.5064330223097536, 0.6581154507035712, 0.24147970542901182, 0.4587842199187455]}, {\"hovertext\": [350072.0, 253938.0, 123892.0, 107665.0, 35034.0, 26337.0], \"name\": \"Direct\", \"type\": \"bar\", \"x\": [\"Windows\", \"Macintosh\", \"Android\", \"iOS\", \"Linux\", \"Chrome OS\"], \"y\": [0.11499920016453759, 0.1344186376202065, 0.2611629483743906, 0.19099057260948313, 0.2502426214534452, 0.1909101264380909]}, {\"hovertext\": [350072.0, 253938.0, 123892.0, 107665.0, 35034.0, 26337.0], \"name\": \"Social\", \"type\": \"bar\", \"x\": [\"Windows\", \"Macintosh\", \"Android\", \"iOS\", \"Linux\", \"Chrome OS\"], \"y\": [0.3520647181151306, 0.282391764918996, 0.13544054499079844, 0.06294524683044629, 0.09858994119997716, 0.039146447962941866]}, {\"hovertext\": [350072.0, 253938.0, 123892.0, 107665.0, 35034.0, 26337.0], \"name\": \"Referral\", \"type\": \"bar\", \"x\": [\"Windows\", \"Macintosh\", \"Android\", \"iOS\", \"Linux\", \"Chrome OS\"], \"y\": [0.06558650791837108, 0.22179035827642968, 0.028871920705130276, 0.018734036130590256, 0.37606325284009817, 0.2553441925807799]}, {\"hovertext\": [350072.0, 253938.0, 123892.0, 107665.0, 35034.0, 26337.0], \"name\": \"Paid Search\", \"type\": \"bar\", \"x\": [\"Windows\", \"Macintosh\", \"Android\", \"iOS\", \"Linux\", \"Chrome OS\"], \"y\": [0.01795630613131013, 0.020619206262946072, 0.051213960546282244, 0.058356940509915016, 0.005651652680253468, 0.03660249838630064]}, {\"hovertext\": [350072.0, 253938.0, 123892.0, 107665.0, 35034.0, 26337.0], \"name\": \"Affiliates\", \"type\": \"bar\", \"x\": [\"Windows\", \"Macintosh\", \"Android\", \"iOS\", \"Linux\", \"Chrome OS\"], \"y\": [0.02976244886766151, 0.01581094597893974, 0.008919058534852937, 0.003919565318348581, 0.00939087743335046, 0.0034552150966321144]}],\n                        {\"template\": {\"layout\": {\"annotationdefaults\": {\"arrowcolor\": \"#f2f5fa\", \"arrowhead\": 0, \"arrowwidth\": 1}, \"coloraxis\": {\"colorbar\": {\"outlinewidth\": 0, \"ticks\": \"\"}}, \"colorscale\": {\"diverging\": [[0, \"#8e0152\"], [0.1, \"#c51b7d\"], [0.2, \"#de77ae\"], [0.3, \"#f1b6da\"], [0.4, \"#fde0ef\"], [0.5, \"#f7f7f7\"], [0.6, \"#e6f5d0\"], [0.7, \"#b8e186\"], [0.8, \"#7fbc41\"], [0.9, \"#4d9221\"], [1, \"#276419\"]], \"sequential\": [[0.0, \"#0d0887\"], [0.1111111111111111, \"#46039f\"], [0.2222222222222222, \"#7201a8\"], [0.3333333333333333, \"#9c179e\"], [0.4444444444444444, \"#bd3786\"], [0.5555555555555556, \"#d8576b\"], [0.6666666666666666, \"#ed7953\"], [0.7777777777777778, \"#fb9f3a\"], [0.8888888888888888, \"#fdca26\"], [1.0, \"#f0f921\"]], \"sequentialminus\": [[0.0, \"#0d0887\"], [0.1111111111111111, \"#46039f\"], [0.2222222222222222, \"#7201a8\"], [0.3333333333333333, \"#9c179e\"], [0.4444444444444444, \"#bd3786\"], [0.5555555555555556, \"#d8576b\"], [0.6666666666666666, \"#ed7953\"], [0.7777777777777778, \"#fb9f3a\"], [0.8888888888888888, \"#fdca26\"], [1.0, \"#f0f921\"]]}, \"colorway\": [\"rgba(0, 203, 166, 0.7)\", \"rgba(168, 168, 168, 0.7)\", \"#19d3f3\", \"#00cc96\", \"#ab63fa\", \"#00CBA6\", \"#FF6692\", \"#B6E880\", \"#FF97FF\", \"#FECB52\"], \"font\": {\"color\": \"#2a3f5f\", \"family\": \"plain\"}, \"geo\": {\"bgcolor\": \"black\", \"lakecolor\": \"white\", \"landcolor\": \"white\", \"showlakes\": true, \"showland\": true, \"subunitcolor\": \"#506784\"}, \"hoverlabel\": {\"align\": \"left\"}, \"hovermode\": \"closest\", \"images\": [{\"layer\": \"below\", \"opacity\": 0.05, \"sizex\": 0.7, \"sizey\": 0.7, \"source\": \"https://product-derrick.s3.amazonaws.com/logoWhite.png\", \"x\": 0.15, \"xref\": \"paper\", \"y\": 0.75, \"yref\": \"paper\"}], \"mapbox\": {\"style\": \"light\"}, \"paper_bgcolor\": \"white\", \"plot_bgcolor\": \"white\", \"polar\": {\"angularaxis\": {\"gridcolor\": \"#506784\", \"linecolor\": \"#506784\", \"ticks\": \"\"}, \"bgcolor\": \"white\", \"radialaxis\": {\"gridcolor\": \"#506784\", \"linecolor\": \"#506784\", \"ticks\": \"\"}}, \"scene\": {\"xaxis\": {\"backgroundcolor\": \"white\", \"gridcolor\": \"#506784\", \"gridwidth\": 2, \"linecolor\": \"#506784\", \"showbackground\": true, \"ticks\": \"\", \"zerolinecolor\": \"#C8D4E3\"}, \"yaxis\": {\"backgroundcolor\": \"white\", \"gridcolor\": \"#506784\", \"gridwidth\": 2, \"linecolor\": \"#506784\", \"showbackground\": true, \"ticks\": \"\", \"zerolinecolor\": \"#C8D4E3\"}, \"zaxis\": {\"backgroundcolor\": \"rgb(17,17,17)\", \"gridcolor\": \"#506784\", \"gridwidth\": 2, \"linecolor\": \"#506784\", \"showbackground\": true, \"ticks\": \"\", \"zerolinecolor\": \"#C8D4E3\"}}, \"shapedefaults\": {\"line\": {\"color\": \"#f2f5fa\"}}, \"sliderdefaults\": {\"bgcolor\": \"#C8D4E3\", \"bordercolor\": \"rgb(17,17,17)\", \"borderwidth\": 1, \"tickwidth\": 0}, \"ternary\": {\"aaxis\": {\"gridcolor\": \"#506784\", \"linecolor\": \"#506784\", \"ticks\": \"\"}, \"baxis\": {\"gridcolor\": \"#506784\", \"linecolor\": \"#506784\", \"ticks\": \"\"}, \"bgcolor\": \"rgb(17,17,17)\", \"caxis\": {\"gridcolor\": \"#506784\", \"linecolor\": \"#506784\", \"ticks\": \"\"}}, \"title\": {\"font\": {\"size\": 24}, \"x\": 0.05}, \"updatemenudefaults\": {\"bgcolor\": \"#506784\", \"borderwidth\": 0}, \"xaxis\": {\"automargin\": true, \"gridcolor\": \"#DFE8F3\", \"linecolor\": \"#A2B1C6\", \"tickfont\": {\"color\": \"#2a3f5f\", \"family\": \"InterstateMono\", \"size\": 10}, \"ticks\": \"\", \"title\": {\"font\": {\"family\": \"Plain\", \"size\": 18}}, \"zerolinecolor\": \"#DFE8F3\", \"zerolinewidth\": 2}, \"yaxis\": {\"automargin\": true, \"gridcolor\": \"#DFE8F3\", \"linecolor\": \"#A2B1C6\", \"tickfont\": {\"color\": \"#2a3f5f\", \"family\": \"InterstateMono\", \"size\": 10}, \"ticks\": \"\", \"title\": {\"font\": {\"family\": \"plain\", \"size\": 18}}, \"zerolinecolor\": \"#DFE8F3\", \"zerolinewidth\": 2}}}, \"title\": {\"text\": \"Refering Source by Operating System\"}, \"yaxis\": {\"tickformat\": \",.0%\"}},\n                        {\"responsive\": true}\n                    ).then(function(){\n                            \nvar gd = document.getElementById('a9c609dc-9137-4cb3-9451-be193dcb4d45');\nvar x = new MutationObserver(function (mutations, observer) {{\n        var display = window.getComputedStyle(gd).display;\n        if (!display || display === 'none') {{\n            console.log([gd, 'removed!']);\n            Plotly.purge(gd);\n            observer.disconnect();\n        }}\n}});\n\n// Listen for the removal of the full notebook cells\nvar notebookContainer = gd.closest('#notebook-container');\nif (notebookContainer) {{\n    x.observe(notebookContainer, {childList: true});\n}}\n\n// Listen for the clearing of the current output cell\nvar outputEl = gd.closest('.output');\nif (outputEl) {{\n    x.observe(outputEl, {childList: true});\n}}\n\n                        })\n                };\n                });\n            </script>\n        </div>"
     },
     "metadata": {}
    }
   ],
   "source": [
    "fig = go.Figure()\n",
    "\n",
    "for i in data.columns[1:-2]:\n",
    "    fig.add_trace(\n",
    "        go.Bar(\n",
    "            x=data.index,\n",
    "            y=data[i],\n",
    "            name = i,\n",
    "            hovertext=data['totals']\n",
    "        )\n",
    "    )\n",
    "fig.update_layout(title='Refering Source by Operating System')\n",
    "fig.update_yaxes(tickformat=',.0%',)\n",
    "fig.show(renderer='notebook_connected')"
   ]
  },
  {
   "cell_type": "code",
   "execution_count": 38,
   "metadata": {},
   "outputs": [],
   "source": [
    "# Send Figure to Plotly Chart Studio to share on embed\n",
    "# py.plot(fig, filename = 'udacity-web-traffic_by_source', sharing='public')"
   ]
  },
  {
   "source": [
    "That's a little busy.  Let's boil this down to paid and unpaid and show just what we are looking for. "
   ],
   "cell_type": "markdown",
   "metadata": {}
  },
  {
   "cell_type": "code",
   "execution_count": 39,
   "metadata": {},
   "outputs": [
    {
     "output_type": "stream",
     "name": "stderr",
     "text": [
      "<ipython-input-39-9f6d69e33808>:1: SettingWithCopyWarning:\n\n\nA value is trying to be set on a copy of a slice from a DataFrame.\nTry using .loc[row_indexer,col_indexer] = value instead\n\nSee the caveats in the documentation: https://pandas.pydata.org/pandas-docs/stable/user_guide/indexing.html#returning-a-view-versus-a-copy\n\n<ipython-input-39-9f6d69e33808>:2: SettingWithCopyWarning:\n\n\nA value is trying to be set on a copy of a slice from a DataFrame.\nTry using .loc[row_indexer,col_indexer] = value instead\n\nSee the caveats in the documentation: https://pandas.pydata.org/pandas-docs/stable/user_guide/indexing.html#returning-a-view-versus-a-copy\n\n"
     ]
    }
   ],
   "source": [
    "data['Unpaid'] = data['Organic Search'] + data['Direct'] + data['Referral'] + data['Social']\n",
    "data['Paid'] = data['Paid Search'] + data['Affiliates'] + data['Display']"
   ]
  },
  {
   "cell_type": "code",
   "execution_count": 40,
   "metadata": {},
   "outputs": [
    {
     "output_type": "execute_result",
     "data": {
      "text/plain": [
       "                   totals  Organic Search    Direct    Social  Referral  \\\n",
       "operatingSystem                                                           \n",
       "Windows          350072.0        0.416329  0.114999  0.352065  0.065587   \n",
       "Macintosh        253938.0        0.315431  0.134419  0.282392  0.221790   \n",
       "Android          123892.0        0.506433  0.261163  0.135441  0.028872   \n",
       "iOS              107665.0        0.658115  0.190991  0.062945  0.018734   \n",
       "Linux             35034.0        0.241480  0.250243  0.098590  0.376063   \n",
       "Chrome OS         26337.0        0.458784  0.190910  0.039146  0.255344   \n",
       "\n",
       "                 Paid Search  Affiliates   Display   (Other)    Unpaid  \\\n",
       "operatingSystem                                                          \n",
       "Windows             0.017956    0.029762  0.003222  0.000080  0.948979   \n",
       "Macintosh           0.020619    0.015811  0.009372  0.000165  0.954032   \n",
       "Android             0.051214    0.008919  0.007781  0.000178  0.931908   \n",
       "iOS                 0.058357    0.003920  0.006799  0.000139  0.930785   \n",
       "Linux               0.005652    0.009391  0.018325  0.000257  0.966376   \n",
       "Chrome OS           0.036602    0.003455  0.015643  0.000114  0.944185   \n",
       "\n",
       "                     Paid  \n",
       "operatingSystem            \n",
       "Windows          0.050941  \n",
       "Macintosh        0.045803  \n",
       "Android          0.067914  \n",
       "iOS              0.069075  \n",
       "Linux            0.033368  \n",
       "Chrome OS        0.055701  "
      ],
      "text/html": "<div>\n<style scoped>\n    .dataframe tbody tr th:only-of-type {\n        vertical-align: middle;\n    }\n\n    .dataframe tbody tr th {\n        vertical-align: top;\n    }\n\n    .dataframe thead th {\n        text-align: right;\n    }\n</style>\n<table border=\"1\" class=\"dataframe\">\n  <thead>\n    <tr style=\"text-align: right;\">\n      <th></th>\n      <th>totals</th>\n      <th>Organic Search</th>\n      <th>Direct</th>\n      <th>Social</th>\n      <th>Referral</th>\n      <th>Paid Search</th>\n      <th>Affiliates</th>\n      <th>Display</th>\n      <th>(Other)</th>\n      <th>Unpaid</th>\n      <th>Paid</th>\n    </tr>\n    <tr>\n      <th>operatingSystem</th>\n      <th></th>\n      <th></th>\n      <th></th>\n      <th></th>\n      <th></th>\n      <th></th>\n      <th></th>\n      <th></th>\n      <th></th>\n      <th></th>\n      <th></th>\n    </tr>\n  </thead>\n  <tbody>\n    <tr>\n      <th>Windows</th>\n      <td>350072.0</td>\n      <td>0.416329</td>\n      <td>0.114999</td>\n      <td>0.352065</td>\n      <td>0.065587</td>\n      <td>0.017956</td>\n      <td>0.029762</td>\n      <td>0.003222</td>\n      <td>0.000080</td>\n      <td>0.948979</td>\n      <td>0.050941</td>\n    </tr>\n    <tr>\n      <th>Macintosh</th>\n      <td>253938.0</td>\n      <td>0.315431</td>\n      <td>0.134419</td>\n      <td>0.282392</td>\n      <td>0.221790</td>\n      <td>0.020619</td>\n      <td>0.015811</td>\n      <td>0.009372</td>\n      <td>0.000165</td>\n      <td>0.954032</td>\n      <td>0.045803</td>\n    </tr>\n    <tr>\n      <th>Android</th>\n      <td>123892.0</td>\n      <td>0.506433</td>\n      <td>0.261163</td>\n      <td>0.135441</td>\n      <td>0.028872</td>\n      <td>0.051214</td>\n      <td>0.008919</td>\n      <td>0.007781</td>\n      <td>0.000178</td>\n      <td>0.931908</td>\n      <td>0.067914</td>\n    </tr>\n    <tr>\n      <th>iOS</th>\n      <td>107665.0</td>\n      <td>0.658115</td>\n      <td>0.190991</td>\n      <td>0.062945</td>\n      <td>0.018734</td>\n      <td>0.058357</td>\n      <td>0.003920</td>\n      <td>0.006799</td>\n      <td>0.000139</td>\n      <td>0.930785</td>\n      <td>0.069075</td>\n    </tr>\n    <tr>\n      <th>Linux</th>\n      <td>35034.0</td>\n      <td>0.241480</td>\n      <td>0.250243</td>\n      <td>0.098590</td>\n      <td>0.376063</td>\n      <td>0.005652</td>\n      <td>0.009391</td>\n      <td>0.018325</td>\n      <td>0.000257</td>\n      <td>0.966376</td>\n      <td>0.033368</td>\n    </tr>\n    <tr>\n      <th>Chrome OS</th>\n      <td>26337.0</td>\n      <td>0.458784</td>\n      <td>0.190910</td>\n      <td>0.039146</td>\n      <td>0.255344</td>\n      <td>0.036602</td>\n      <td>0.003455</td>\n      <td>0.015643</td>\n      <td>0.000114</td>\n      <td>0.944185</td>\n      <td>0.055701</td>\n    </tr>\n  </tbody>\n</table>\n</div>"
     },
     "metadata": {},
     "execution_count": 40
    }
   ],
   "source": [
    "data"
   ]
  },
  {
   "cell_type": "code",
   "execution_count": 41,
   "metadata": {},
   "outputs": [
    {
     "output_type": "display_data",
     "data": {
      "text/html": "        <script type=\"text/javascript\">\n        window.PlotlyConfig = {MathJaxConfig: 'local'};\n        if (window.MathJax) {MathJax.Hub.Config({SVG: {font: \"STIX-Web\"}});}\n        if (typeof require !== 'undefined') {\n        require.undef(\"plotly\");\n        requirejs.config({\n            paths: {\n                'plotly': ['https://cdn.plot.ly/plotly-latest.min']\n            }\n        });\n        require(['plotly'], function(Plotly) {\n            window._Plotly = Plotly;\n        });\n        }\n        </script>\n        "
     },
     "metadata": {}
    },
    {
     "output_type": "display_data",
     "data": {
      "text/html": "<div>\n        \n        \n            <div id=\"3722cd6f-7cf3-47df-869c-9d094703ebb5\" class=\"plotly-graph-div\" style=\"height:525px; width:100%;\"></div>\n            <script type=\"text/javascript\">\n                require([\"plotly\"], function(Plotly) {\n                    window.PLOTLYENV=window.PLOTLYENV || {};\n                    \n                if (document.getElementById(\"3722cd6f-7cf3-47df-869c-9d094703ebb5\")) {\n                    Plotly.newPlot(\n                        '3722cd6f-7cf3-47df-869c-9d094703ebb5',\n                        [{\"type\": \"bar\", \"x\": [\"Windows\", \"Macintosh\", \"Android\", \"iOS\", \"Linux\", \"Chrome OS\"], \"y\": [0.050940949290431685, 0.045802518725043116, 0.0679139896038485, 0.06907537268378768, 0.03336758577381972, 0.055701104909442994]}],\n                        {\"template\": {\"layout\": {\"annotationdefaults\": {\"arrowcolor\": \"#f2f5fa\", \"arrowhead\": 0, \"arrowwidth\": 1}, \"coloraxis\": {\"colorbar\": {\"outlinewidth\": 0, \"ticks\": \"\"}}, \"colorscale\": {\"diverging\": [[0, \"#8e0152\"], [0.1, \"#c51b7d\"], [0.2, \"#de77ae\"], [0.3, \"#f1b6da\"], [0.4, \"#fde0ef\"], [0.5, \"#f7f7f7\"], [0.6, \"#e6f5d0\"], [0.7, \"#b8e186\"], [0.8, \"#7fbc41\"], [0.9, \"#4d9221\"], [1, \"#276419\"]], \"sequential\": [[0.0, \"#0d0887\"], [0.1111111111111111, \"#46039f\"], [0.2222222222222222, \"#7201a8\"], [0.3333333333333333, \"#9c179e\"], [0.4444444444444444, \"#bd3786\"], [0.5555555555555556, \"#d8576b\"], [0.6666666666666666, \"#ed7953\"], [0.7777777777777778, \"#fb9f3a\"], [0.8888888888888888, \"#fdca26\"], [1.0, \"#f0f921\"]], \"sequentialminus\": [[0.0, \"#0d0887\"], [0.1111111111111111, \"#46039f\"], [0.2222222222222222, \"#7201a8\"], [0.3333333333333333, \"#9c179e\"], [0.4444444444444444, \"#bd3786\"], [0.5555555555555556, \"#d8576b\"], [0.6666666666666666, \"#ed7953\"], [0.7777777777777778, \"#fb9f3a\"], [0.8888888888888888, \"#fdca26\"], [1.0, \"#f0f921\"]]}, \"colorway\": [\"rgba(0, 203, 166, 0.7)\", \"rgba(168, 168, 168, 0.7)\", \"#19d3f3\", \"#00cc96\", \"#ab63fa\", \"#00CBA6\", \"#FF6692\", \"#B6E880\", \"#FF97FF\", \"#FECB52\"], \"font\": {\"color\": \"#2a3f5f\", \"family\": \"plain\"}, \"geo\": {\"bgcolor\": \"black\", \"lakecolor\": \"white\", \"landcolor\": \"white\", \"showlakes\": true, \"showland\": true, \"subunitcolor\": \"#506784\"}, \"hoverlabel\": {\"align\": \"left\"}, \"hovermode\": \"closest\", \"images\": [{\"layer\": \"below\", \"opacity\": 0.05, \"sizex\": 0.7, \"sizey\": 0.7, \"source\": \"https://product-derrick.s3.amazonaws.com/logoWhite.png\", \"x\": 0.15, \"xref\": \"paper\", \"y\": 0.75, \"yref\": \"paper\"}], \"mapbox\": {\"style\": \"light\"}, \"paper_bgcolor\": \"white\", \"plot_bgcolor\": \"white\", \"polar\": {\"angularaxis\": {\"gridcolor\": \"#506784\", \"linecolor\": \"#506784\", \"ticks\": \"\"}, \"bgcolor\": \"white\", \"radialaxis\": {\"gridcolor\": \"#506784\", \"linecolor\": \"#506784\", \"ticks\": \"\"}}, \"scene\": {\"xaxis\": {\"backgroundcolor\": \"white\", \"gridcolor\": \"#506784\", \"gridwidth\": 2, \"linecolor\": \"#506784\", \"showbackground\": true, \"ticks\": \"\", \"zerolinecolor\": \"#C8D4E3\"}, \"yaxis\": {\"backgroundcolor\": \"white\", \"gridcolor\": \"#506784\", \"gridwidth\": 2, \"linecolor\": \"#506784\", \"showbackground\": true, \"ticks\": \"\", \"zerolinecolor\": \"#C8D4E3\"}, \"zaxis\": {\"backgroundcolor\": \"rgb(17,17,17)\", \"gridcolor\": \"#506784\", \"gridwidth\": 2, \"linecolor\": \"#506784\", \"showbackground\": true, \"ticks\": \"\", \"zerolinecolor\": \"#C8D4E3\"}}, \"shapedefaults\": {\"line\": {\"color\": \"#f2f5fa\"}}, \"sliderdefaults\": {\"bgcolor\": \"#C8D4E3\", \"bordercolor\": \"rgb(17,17,17)\", \"borderwidth\": 1, \"tickwidth\": 0}, \"ternary\": {\"aaxis\": {\"gridcolor\": \"#506784\", \"linecolor\": \"#506784\", \"ticks\": \"\"}, \"baxis\": {\"gridcolor\": \"#506784\", \"linecolor\": \"#506784\", \"ticks\": \"\"}, \"bgcolor\": \"rgb(17,17,17)\", \"caxis\": {\"gridcolor\": \"#506784\", \"linecolor\": \"#506784\", \"ticks\": \"\"}}, \"title\": {\"font\": {\"size\": 24}, \"x\": 0.05}, \"updatemenudefaults\": {\"bgcolor\": \"#506784\", \"borderwidth\": 0}, \"xaxis\": {\"automargin\": true, \"gridcolor\": \"#DFE8F3\", \"linecolor\": \"#A2B1C6\", \"tickfont\": {\"color\": \"#2a3f5f\", \"family\": \"InterstateMono\", \"size\": 10}, \"ticks\": \"\", \"title\": {\"font\": {\"family\": \"Plain\", \"size\": 18}}, \"zerolinecolor\": \"#DFE8F3\", \"zerolinewidth\": 2}, \"yaxis\": {\"automargin\": true, \"gridcolor\": \"#DFE8F3\", \"linecolor\": \"#A2B1C6\", \"tickfont\": {\"color\": \"#2a3f5f\", \"family\": \"InterstateMono\", \"size\": 10}, \"ticks\": \"\", \"title\": {\"font\": {\"family\": \"plain\", \"size\": 18}}, \"zerolinecolor\": \"#DFE8F3\", \"zerolinewidth\": 2}}}, \"title\": {\"text\": \"Paid Traffic by Operating System\"}, \"yaxis\": {\"tickformat\": \",.0%\"}},\n                        {\"responsive\": true}\n                    ).then(function(){\n                            \nvar gd = document.getElementById('3722cd6f-7cf3-47df-869c-9d094703ebb5');\nvar x = new MutationObserver(function (mutations, observer) {{\n        var display = window.getComputedStyle(gd).display;\n        if (!display || display === 'none') {{\n            console.log([gd, 'removed!']);\n            Plotly.purge(gd);\n            observer.disconnect();\n        }}\n}});\n\n// Listen for the removal of the full notebook cells\nvar notebookContainer = gd.closest('#notebook-container');\nif (notebookContainer) {{\n    x.observe(notebookContainer, {childList: true});\n}}\n\n// Listen for the clearing of the current output cell\nvar outputEl = gd.closest('.output');\nif (outputEl) {{\n    x.observe(outputEl, {childList: true});\n}}\n\n                        })\n                };\n                });\n            </script>\n        </div>"
     },
     "metadata": {}
    }
   ],
   "source": [
    "fig = go.Figure()\n",
    "fig.add_trace(\n",
    "    go.Bar(\n",
    "        x=data.index,\n",
    "        y=data['Paid']\n",
    "    )\n",
    ")\n",
    "fig.update_layout(title='Paid Traffic by Operating System')\n",
    "fig.update_yaxes(tickformat=',.0%',)\n",
    "fig.show(renderer='notebook_connected')"
   ]
  },
  {
   "cell_type": "code",
   "execution_count": 42,
   "metadata": {},
   "outputs": [],
   "source": [
    "# Send Figure to Plotly Chart Studio to share on embed\n",
    "# py.plot(fig, filename = 'udacity-paid_web-traffic', sharing='public')"
   ]
  },
  {
   "source": [
    "## Did visitors who came to the site via paid source have a higher rate of transaction? \n",
    "\n",
    "First lets check the data to test that we can see the source as a result of a transaction. The key point is to see if the data maintains the value of source even on second and third visits. Perhaps the user was brought to the site through a piad visit initially and subsequently made a purchase on another visit as a direct visitor. "
   ],
   "cell_type": "markdown",
   "metadata": {}
  },
  {
   "cell_type": "code",
   "execution_count": 43,
   "metadata": {},
   "outputs": [],
   "source": [
    "query = f''' \n",
    "    SELECT  fullvisitorId, channelGrouping,  device.operatingSystem, date, visitId, visitNumber, trafficSource.source, trafficSource.medium, totals.transactions, totals.transactionRevenue\n",
    "    FROM `bigquery-public-data.google_analytics_sample.ga_sessions_*` \n",
    "    WHERE _TABLE_SUFFIX between '20160801' and '20170801' and fullvisitorId = '4085972867127024343'\n",
    "    LIMIT 50\n",
    "    '''\n",
    "data = CLIENT.query(query).result().to_dataframe()"
   ]
  },
  {
   "cell_type": "code",
   "execution_count": 44,
   "metadata": {},
   "outputs": [
    {
     "output_type": "execute_result",
     "data": {
      "text/plain": [
       "         fullvisitorId channelGrouping operatingSystem      date     visitId  \\\n",
       "0  4085972867127024343        Referral       Macintosh  20161121  1479760240   \n",
       "1  4085972867127024343        Referral       Macintosh  20161110  1478808651   \n",
       "2  4085972867127024343        Referral       Macintosh  20161014  1476453496   \n",
       "3  4085972867127024343        Referral       Macintosh  20161113  1479097793   \n",
       "4  4085972867127024343        Referral       Macintosh  20161107  1478547833   \n",
       "5  4085972867127024343        Referral       Macintosh  20161107  1478550684   \n",
       "6  4085972867127024343        Referral       Macintosh  20161122  1479856417   \n",
       "7  4085972867127024343        Referral       Macintosh  20161101  1478033380   \n",
       "8  4085972867127024343        Referral       Macintosh  20161120  1479676039   \n",
       "9  4085972867127024343        Referral       Macintosh  20161213  1481660216   \n",
       "\n",
       "   visitNumber    source  medium  transactions  transactionRevenue  \n",
       "0           10  (direct)  (none)           NaN                 NaN  \n",
       "1            7  (direct)  (none)           NaN                 NaN  \n",
       "2            1  (direct)  (none)           NaN                 NaN  \n",
       "3            8  (direct)  (none)           1.0          19190000.0  \n",
       "4            3  (direct)  (none)           NaN                 NaN  \n",
       "5            4  (direct)  (none)           1.0          19190000.0  \n",
       "6           11  (direct)  (none)           1.0          23990000.0  \n",
       "7            2  (direct)  (none)           NaN                 NaN  \n",
       "8            9  (direct)  (none)           NaN                 NaN  \n",
       "9           12  (direct)  (none)           1.0          19190000.0  "
      ],
      "text/html": "<div>\n<style scoped>\n    .dataframe tbody tr th:only-of-type {\n        vertical-align: middle;\n    }\n\n    .dataframe tbody tr th {\n        vertical-align: top;\n    }\n\n    .dataframe thead th {\n        text-align: right;\n    }\n</style>\n<table border=\"1\" class=\"dataframe\">\n  <thead>\n    <tr style=\"text-align: right;\">\n      <th></th>\n      <th>fullvisitorId</th>\n      <th>channelGrouping</th>\n      <th>operatingSystem</th>\n      <th>date</th>\n      <th>visitId</th>\n      <th>visitNumber</th>\n      <th>source</th>\n      <th>medium</th>\n      <th>transactions</th>\n      <th>transactionRevenue</th>\n    </tr>\n  </thead>\n  <tbody>\n    <tr>\n      <th>0</th>\n      <td>4085972867127024343</td>\n      <td>Referral</td>\n      <td>Macintosh</td>\n      <td>20161121</td>\n      <td>1479760240</td>\n      <td>10</td>\n      <td>(direct)</td>\n      <td>(none)</td>\n      <td>NaN</td>\n      <td>NaN</td>\n    </tr>\n    <tr>\n      <th>1</th>\n      <td>4085972867127024343</td>\n      <td>Referral</td>\n      <td>Macintosh</td>\n      <td>20161110</td>\n      <td>1478808651</td>\n      <td>7</td>\n      <td>(direct)</td>\n      <td>(none)</td>\n      <td>NaN</td>\n      <td>NaN</td>\n    </tr>\n    <tr>\n      <th>2</th>\n      <td>4085972867127024343</td>\n      <td>Referral</td>\n      <td>Macintosh</td>\n      <td>20161014</td>\n      <td>1476453496</td>\n      <td>1</td>\n      <td>(direct)</td>\n      <td>(none)</td>\n      <td>NaN</td>\n      <td>NaN</td>\n    </tr>\n    <tr>\n      <th>3</th>\n      <td>4085972867127024343</td>\n      <td>Referral</td>\n      <td>Macintosh</td>\n      <td>20161113</td>\n      <td>1479097793</td>\n      <td>8</td>\n      <td>(direct)</td>\n      <td>(none)</td>\n      <td>1.0</td>\n      <td>19190000.0</td>\n    </tr>\n    <tr>\n      <th>4</th>\n      <td>4085972867127024343</td>\n      <td>Referral</td>\n      <td>Macintosh</td>\n      <td>20161107</td>\n      <td>1478547833</td>\n      <td>3</td>\n      <td>(direct)</td>\n      <td>(none)</td>\n      <td>NaN</td>\n      <td>NaN</td>\n    </tr>\n    <tr>\n      <th>5</th>\n      <td>4085972867127024343</td>\n      <td>Referral</td>\n      <td>Macintosh</td>\n      <td>20161107</td>\n      <td>1478550684</td>\n      <td>4</td>\n      <td>(direct)</td>\n      <td>(none)</td>\n      <td>1.0</td>\n      <td>19190000.0</td>\n    </tr>\n    <tr>\n      <th>6</th>\n      <td>4085972867127024343</td>\n      <td>Referral</td>\n      <td>Macintosh</td>\n      <td>20161122</td>\n      <td>1479856417</td>\n      <td>11</td>\n      <td>(direct)</td>\n      <td>(none)</td>\n      <td>1.0</td>\n      <td>23990000.0</td>\n    </tr>\n    <tr>\n      <th>7</th>\n      <td>4085972867127024343</td>\n      <td>Referral</td>\n      <td>Macintosh</td>\n      <td>20161101</td>\n      <td>1478033380</td>\n      <td>2</td>\n      <td>(direct)</td>\n      <td>(none)</td>\n      <td>NaN</td>\n      <td>NaN</td>\n    </tr>\n    <tr>\n      <th>8</th>\n      <td>4085972867127024343</td>\n      <td>Referral</td>\n      <td>Macintosh</td>\n      <td>20161120</td>\n      <td>1479676039</td>\n      <td>9</td>\n      <td>(direct)</td>\n      <td>(none)</td>\n      <td>NaN</td>\n      <td>NaN</td>\n    </tr>\n    <tr>\n      <th>9</th>\n      <td>4085972867127024343</td>\n      <td>Referral</td>\n      <td>Macintosh</td>\n      <td>20161213</td>\n      <td>1481660216</td>\n      <td>12</td>\n      <td>(direct)</td>\n      <td>(none)</td>\n      <td>1.0</td>\n      <td>19190000.0</td>\n    </tr>\n  </tbody>\n</table>\n</div>"
     },
     "metadata": {},
     "execution_count": 44
    }
   ],
   "source": [
    "data"
   ]
  },
  {
   "source": [
    "When looking at our case above, we can see that the channel remains the same throughout all visits. Let's check another account with transactions and multiple visits. "
   ],
   "cell_type": "markdown",
   "metadata": {}
  },
  {
   "cell_type": "code",
   "execution_count": 45,
   "metadata": {},
   "outputs": [],
   "source": [
    "query = f''' \n",
    "    SELECT  fullvisitorId, channelGrouping, device.operatingSystem, date, trafficSource.source, trafficSource.medium, totals.transactions, totals.transactionRevenue\n",
    "    FROM `bigquery-public-data.google_analytics_sample.ga_sessions_*` \n",
    "    WHERE _TABLE_SUFFIX between '20160801' and '20170801' and fullvisitorId = '4140559214164857738'\n",
    "    LIMIT 50\n",
    "    '''\n",
    "data = CLIENT.query(query).result().to_dataframe()"
   ]
  },
  {
   "cell_type": "code",
   "execution_count": 46,
   "metadata": {},
   "outputs": [
    {
     "output_type": "execute_result",
     "data": {
      "text/plain": [
       "         fullvisitorId channelGrouping operatingSystem      date    source  \\\n",
       "0  4140559214164857738  Organic Search       Macintosh  20170726    google   \n",
       "1  4140559214164857738  Organic Search       Macintosh  20170613  (direct)   \n",
       "2  4140559214164857738  Organic Search       Macintosh  20170707    google   \n",
       "3  4140559214164857738  Organic Search       Macintosh  20170606  (direct)   \n",
       "\n",
       "    medium  transactions  transactionRevenue  \n",
       "0  organic             1           119400000  \n",
       "1   (none)             1           117340000  \n",
       "2  organic             1           243660000  \n",
       "3   (none)             1           120250000  "
      ],
      "text/html": "<div>\n<style scoped>\n    .dataframe tbody tr th:only-of-type {\n        vertical-align: middle;\n    }\n\n    .dataframe tbody tr th {\n        vertical-align: top;\n    }\n\n    .dataframe thead th {\n        text-align: right;\n    }\n</style>\n<table border=\"1\" class=\"dataframe\">\n  <thead>\n    <tr style=\"text-align: right;\">\n      <th></th>\n      <th>fullvisitorId</th>\n      <th>channelGrouping</th>\n      <th>operatingSystem</th>\n      <th>date</th>\n      <th>source</th>\n      <th>medium</th>\n      <th>transactions</th>\n      <th>transactionRevenue</th>\n    </tr>\n  </thead>\n  <tbody>\n    <tr>\n      <th>0</th>\n      <td>4140559214164857738</td>\n      <td>Organic Search</td>\n      <td>Macintosh</td>\n      <td>20170726</td>\n      <td>google</td>\n      <td>organic</td>\n      <td>1</td>\n      <td>119400000</td>\n    </tr>\n    <tr>\n      <th>1</th>\n      <td>4140559214164857738</td>\n      <td>Organic Search</td>\n      <td>Macintosh</td>\n      <td>20170613</td>\n      <td>(direct)</td>\n      <td>(none)</td>\n      <td>1</td>\n      <td>117340000</td>\n    </tr>\n    <tr>\n      <th>2</th>\n      <td>4140559214164857738</td>\n      <td>Organic Search</td>\n      <td>Macintosh</td>\n      <td>20170707</td>\n      <td>google</td>\n      <td>organic</td>\n      <td>1</td>\n      <td>243660000</td>\n    </tr>\n    <tr>\n      <th>3</th>\n      <td>4140559214164857738</td>\n      <td>Organic Search</td>\n      <td>Macintosh</td>\n      <td>20170606</td>\n      <td>(direct)</td>\n      <td>(none)</td>\n      <td>1</td>\n      <td>120250000</td>\n    </tr>\n  </tbody>\n</table>\n</div>"
     },
     "metadata": {},
     "execution_count": 46
    }
   ],
   "source": [
    "data"
   ]
  },
  {
   "source": [
    "Again the channel grouping looks to be maintained through all visits. One more. "
   ],
   "cell_type": "markdown",
   "metadata": {}
  },
  {
   "cell_type": "code",
   "execution_count": 47,
   "metadata": {},
   "outputs": [],
   "source": [
    "query = f''' \n",
    "    SELECT  fullvisitorId, channelGrouping, date, visitId, visitNumber, visitStartTime, trafficSource.source, trafficSource.medium, totals.transactions, totals.transactionRevenue, totals.totalTransactionRevenue\n",
    "    FROM `bigquery-public-data.google_analytics_sample.ga_sessions_*` \n",
    "    WHERE _TABLE_SUFFIX between '20160801' and '20170801' and fullvisitorId = '6377171440951916612'\n",
    "    LIMIT 50\n",
    "    '''\n",
    "data = CLIENT.query(query).result().to_dataframe()"
   ]
  },
  {
   "cell_type": "code",
   "execution_count": 48,
   "metadata": {},
   "outputs": [
    {
     "output_type": "execute_result",
     "data": {
      "text/plain": [
       "         fullvisitorId channelGrouping      date     visitId  visitNumber  \\\n",
       "0  6377171440951916612     Paid Search  20170725  1501037798            3   \n",
       "1  6377171440951916612     Paid Search  20170725  1501039074            4   \n",
       "2  6377171440951916612  Organic Search  20170716  1500238874            2   \n",
       "3  6377171440951916612  Organic Search  20170511  1494556236            1   \n",
       "\n",
       "   visitStartTime  source   medium transactions transactionRevenue  \\\n",
       "0      1501037798  google      cpc         None               None   \n",
       "1      1501039074  google      cpc         None               None   \n",
       "2      1500238874  google  organic         None               None   \n",
       "3      1494556236  google  organic         None               None   \n",
       "\n",
       "  totalTransactionRevenue  \n",
       "0                    None  \n",
       "1                    None  \n",
       "2                    None  \n",
       "3                    None  "
      ],
      "text/html": "<div>\n<style scoped>\n    .dataframe tbody tr th:only-of-type {\n        vertical-align: middle;\n    }\n\n    .dataframe tbody tr th {\n        vertical-align: top;\n    }\n\n    .dataframe thead th {\n        text-align: right;\n    }\n</style>\n<table border=\"1\" class=\"dataframe\">\n  <thead>\n    <tr style=\"text-align: right;\">\n      <th></th>\n      <th>fullvisitorId</th>\n      <th>channelGrouping</th>\n      <th>date</th>\n      <th>visitId</th>\n      <th>visitNumber</th>\n      <th>visitStartTime</th>\n      <th>source</th>\n      <th>medium</th>\n      <th>transactions</th>\n      <th>transactionRevenue</th>\n      <th>totalTransactionRevenue</th>\n    </tr>\n  </thead>\n  <tbody>\n    <tr>\n      <th>0</th>\n      <td>6377171440951916612</td>\n      <td>Paid Search</td>\n      <td>20170725</td>\n      <td>1501037798</td>\n      <td>3</td>\n      <td>1501037798</td>\n      <td>google</td>\n      <td>cpc</td>\n      <td>None</td>\n      <td>None</td>\n      <td>None</td>\n    </tr>\n    <tr>\n      <th>1</th>\n      <td>6377171440951916612</td>\n      <td>Paid Search</td>\n      <td>20170725</td>\n      <td>1501039074</td>\n      <td>4</td>\n      <td>1501039074</td>\n      <td>google</td>\n      <td>cpc</td>\n      <td>None</td>\n      <td>None</td>\n      <td>None</td>\n    </tr>\n    <tr>\n      <th>2</th>\n      <td>6377171440951916612</td>\n      <td>Organic Search</td>\n      <td>20170716</td>\n      <td>1500238874</td>\n      <td>2</td>\n      <td>1500238874</td>\n      <td>google</td>\n      <td>organic</td>\n      <td>None</td>\n      <td>None</td>\n      <td>None</td>\n    </tr>\n    <tr>\n      <th>3</th>\n      <td>6377171440951916612</td>\n      <td>Organic Search</td>\n      <td>20170511</td>\n      <td>1494556236</td>\n      <td>1</td>\n      <td>1494556236</td>\n      <td>google</td>\n      <td>organic</td>\n      <td>None</td>\n      <td>None</td>\n      <td>None</td>\n    </tr>\n  </tbody>\n</table>\n</div>"
     },
     "metadata": {},
     "execution_count": 48
    }
   ],
   "source": [
    "data"
   ]
  },
  {
   "source": [
    "Ok, Now we can see that this user has multiple types of traffic source. "
   ],
   "cell_type": "markdown",
   "metadata": {}
  },
  {
   "cell_type": "code",
   "execution_count": 49,
   "metadata": {},
   "outputs": [],
   "source": [
    "query = f''' \n",
    "    SELECT  fullvisitorId, channelGrouping, date, visitId, visitNumber, visitStartTime, trafficSource.source, trafficSource.medium, totals.transactions, totals.transactionRevenue, totals.totalTransactionRevenue\n",
    "    FROM `bigquery-public-data.google_analytics_sample.ga_sessions_*` \n",
    "    WHERE _TABLE_SUFFIX between '20160801' and '20170801' and fullvisitorId = '738777585657711314'\n",
    "    LIMIT 50\n",
    "    '''\n",
    "data = CLIENT.query(query).result().to_dataframe()"
   ]
  },
  {
   "cell_type": "code",
   "execution_count": 50,
   "metadata": {},
   "outputs": [
    {
     "output_type": "execute_result",
     "data": {
      "text/plain": [
       "        fullvisitorId channelGrouping      date     visitId  visitNumber  \\\n",
       "0  738777585657711314         Display  20161220  1482262245            3   \n",
       "1  738777585657711314         Display  20161220  1482267318            4   \n",
       "2  738777585657711314         Display  20161220  1482272043            5   \n",
       "3  738777585657711314         Display  20161228  1482955195            6   \n",
       "4  738777585657711314         Display  20161219  1482183763            2   \n",
       "\n",
       "   visitStartTime source medium  transactions  transactionRevenue  \\\n",
       "0      1482262245    dfa    cpm           NaN                 NaN   \n",
       "1      1482267318    dfa    cpm           NaN                 NaN   \n",
       "2      1482272043    dfa    cpm           1.0          79130000.0   \n",
       "3      1482955195    dfa    cpm           NaN                 NaN   \n",
       "4      1482183763    dfa    cpm           NaN                 NaN   \n",
       "\n",
       "   totalTransactionRevenue  \n",
       "0                      NaN  \n",
       "1                      NaN  \n",
       "2               86130000.0  \n",
       "3                      NaN  \n",
       "4                      NaN  "
      ],
      "text/html": "<div>\n<style scoped>\n    .dataframe tbody tr th:only-of-type {\n        vertical-align: middle;\n    }\n\n    .dataframe tbody tr th {\n        vertical-align: top;\n    }\n\n    .dataframe thead th {\n        text-align: right;\n    }\n</style>\n<table border=\"1\" class=\"dataframe\">\n  <thead>\n    <tr style=\"text-align: right;\">\n      <th></th>\n      <th>fullvisitorId</th>\n      <th>channelGrouping</th>\n      <th>date</th>\n      <th>visitId</th>\n      <th>visitNumber</th>\n      <th>visitStartTime</th>\n      <th>source</th>\n      <th>medium</th>\n      <th>transactions</th>\n      <th>transactionRevenue</th>\n      <th>totalTransactionRevenue</th>\n    </tr>\n  </thead>\n  <tbody>\n    <tr>\n      <th>0</th>\n      <td>738777585657711314</td>\n      <td>Display</td>\n      <td>20161220</td>\n      <td>1482262245</td>\n      <td>3</td>\n      <td>1482262245</td>\n      <td>dfa</td>\n      <td>cpm</td>\n      <td>NaN</td>\n      <td>NaN</td>\n      <td>NaN</td>\n    </tr>\n    <tr>\n      <th>1</th>\n      <td>738777585657711314</td>\n      <td>Display</td>\n      <td>20161220</td>\n      <td>1482267318</td>\n      <td>4</td>\n      <td>1482267318</td>\n      <td>dfa</td>\n      <td>cpm</td>\n      <td>NaN</td>\n      <td>NaN</td>\n      <td>NaN</td>\n    </tr>\n    <tr>\n      <th>2</th>\n      <td>738777585657711314</td>\n      <td>Display</td>\n      <td>20161220</td>\n      <td>1482272043</td>\n      <td>5</td>\n      <td>1482272043</td>\n      <td>dfa</td>\n      <td>cpm</td>\n      <td>1.0</td>\n      <td>79130000.0</td>\n      <td>86130000.0</td>\n    </tr>\n    <tr>\n      <th>3</th>\n      <td>738777585657711314</td>\n      <td>Display</td>\n      <td>20161228</td>\n      <td>1482955195</td>\n      <td>6</td>\n      <td>1482955195</td>\n      <td>dfa</td>\n      <td>cpm</td>\n      <td>NaN</td>\n      <td>NaN</td>\n      <td>NaN</td>\n    </tr>\n    <tr>\n      <th>4</th>\n      <td>738777585657711314</td>\n      <td>Display</td>\n      <td>20161219</td>\n      <td>1482183763</td>\n      <td>2</td>\n      <td>1482183763</td>\n      <td>dfa</td>\n      <td>cpm</td>\n      <td>NaN</td>\n      <td>NaN</td>\n      <td>NaN</td>\n    </tr>\n  </tbody>\n</table>\n</div>"
     },
     "metadata": {},
     "execution_count": 50
    }
   ],
   "source": [
    "data"
   ]
  },
  {
   "source": [
    "## Before we get too far along, perhaps it would be good to see who is performing tansactions. "
   ],
   "cell_type": "markdown",
   "metadata": {}
  },
  {
   "source": [
    "Lets diferentiate between those visitors who have come to the site in any fashion through a targeted ad. "
   ],
   "cell_type": "markdown",
   "metadata": {}
  },
  {
   "cell_type": "code",
   "execution_count": 51,
   "metadata": {},
   "outputs": [],
   "source": [
    "query = f''' \n",
    "    SELECT fullvisitorId,\n",
    "           operatingSystem,\n",
    "           sum(paid),\n",
    "           max(visitNumber),\n",
    "           sum(transactions),\n",
    "           sum(transactionRevenue)/1000000\n",
    "    FROM (SELECT  fullvisitorId, \n",
    "            device.operatingSystem,\n",
    "            CASE WHEN channelGrouping in ('Affliates', 'Display', 'Paid Search') THEN 1 ELSE 0 end as paid, \n",
    "            visitNumber,  \n",
    "            totals.transactions, \n",
    "            totals.transactionRevenue,\n",
    "          FROM `bigquery-public-data.google_analytics_sample.ga_sessions_*`\n",
    "          -- To maintain consistency, remove inconsiquential Operating systems.\n",
    "          WHERE device.operatingSystem in ('Windows', 'Macintosh', 'iOS', 'Android', 'Linux', 'Chrome OS'))\n",
    "    GROUP BY 1, 2\n",
    "    '''\n",
    "data = CLIENT.query(query).result().to_dataframe()"
   ]
  },
  {
   "source": [
    "Aggregate this data to see the sucess rate of purchases between users who experienced at least one paid ad. \n",
    "\n",
    "First lets inspect the data. "
   ],
   "cell_type": "markdown",
   "metadata": {}
  },
  {
   "cell_type": "code",
   "execution_count": 52,
   "metadata": {},
   "outputs": [],
   "source": [
    "# Rename columns to something readable\n",
    "data.columns = ['fullvisitorId', 'operatingSystem', 'Paid', 'Visits', 'Transactions', 'Revenue']\n",
    "# Mark Paid column to a Boolean\n",
    "data['Paid'] = data['Paid']>1"
   ]
  },
  {
   "cell_type": "code",
   "execution_count": 53,
   "metadata": {},
   "outputs": [
    {
     "output_type": "execute_result",
     "data": {
      "text/plain": [
       "              Visits  Transactions       Revenue\n",
       "count  708258.000000  10021.000000   9995.000000\n",
       "mean        1.324242      1.208861    154.081525\n",
       "std         1.977412      0.976053    903.380765\n",
       "min         1.000000      1.000000      0.010000\n",
       "25%         1.000000      1.000000     24.485000\n",
       "50%         1.000000      1.000000     48.890000\n",
       "75%         1.000000      1.000000    108.470000\n",
       "max       395.000000     36.000000  77113.430000"
      ],
      "text/html": "<div>\n<style scoped>\n    .dataframe tbody tr th:only-of-type {\n        vertical-align: middle;\n    }\n\n    .dataframe tbody tr th {\n        vertical-align: top;\n    }\n\n    .dataframe thead th {\n        text-align: right;\n    }\n</style>\n<table border=\"1\" class=\"dataframe\">\n  <thead>\n    <tr style=\"text-align: right;\">\n      <th></th>\n      <th>Visits</th>\n      <th>Transactions</th>\n      <th>Revenue</th>\n    </tr>\n  </thead>\n  <tbody>\n    <tr>\n      <th>count</th>\n      <td>708258.000000</td>\n      <td>10021.000000</td>\n      <td>9995.000000</td>\n    </tr>\n    <tr>\n      <th>mean</th>\n      <td>1.324242</td>\n      <td>1.208861</td>\n      <td>154.081525</td>\n    </tr>\n    <tr>\n      <th>std</th>\n      <td>1.977412</td>\n      <td>0.976053</td>\n      <td>903.380765</td>\n    </tr>\n    <tr>\n      <th>min</th>\n      <td>1.000000</td>\n      <td>1.000000</td>\n      <td>0.010000</td>\n    </tr>\n    <tr>\n      <th>25%</th>\n      <td>1.000000</td>\n      <td>1.000000</td>\n      <td>24.485000</td>\n    </tr>\n    <tr>\n      <th>50%</th>\n      <td>1.000000</td>\n      <td>1.000000</td>\n      <td>48.890000</td>\n    </tr>\n    <tr>\n      <th>75%</th>\n      <td>1.000000</td>\n      <td>1.000000</td>\n      <td>108.470000</td>\n    </tr>\n    <tr>\n      <th>max</th>\n      <td>395.000000</td>\n      <td>36.000000</td>\n      <td>77113.430000</td>\n    </tr>\n  </tbody>\n</table>\n</div>"
     },
     "metadata": {},
     "execution_count": 53
    }
   ],
   "source": [
    "data.describe()"
   ]
  },
  {
   "source": [
    "Looks like there are two a big outliers in there.  Before Moving on, we should remove those. "
   ],
   "cell_type": "markdown",
   "metadata": {}
  },
  {
   "cell_type": "code",
   "execution_count": 54,
   "metadata": {},
   "outputs": [
    {
     "output_type": "execute_result",
     "data": {
      "text/plain": [
       "              fullvisitorId operatingSystem   Paid  Visits  Transactions  \\\n",
       "2167    7965265156545901045         Windows  False       6           1.0   \n",
       "3174      79204932396995037         Windows  False       8           2.0   \n",
       "20585    428994201200499894       Macintosh   True      26           3.0   \n",
       "25297   6147396474895233852       Chrome OS  False      10           5.0   \n",
       "26311   4604965471651937146       Chrome OS  False       3           1.0   \n",
       "...                     ...             ...    ...     ...           ...   \n",
       "670435  0095747507496204221       Chrome OS  False       5           1.0   \n",
       "670446  7113011772090059658       Macintosh  False       6           3.0   \n",
       "672381  9817395183603701442       Macintosh  False       4           1.0   \n",
       "688646  7435052038545127483       Macintosh  False      32           6.0   \n",
       "689153  4471415710206918415       Macintosh  False      49           4.0   \n",
       "\n",
       "         Revenue  \n",
       "2167     4847.60  \n",
       "3174     7047.15  \n",
       "20585    3286.57  \n",
       "25297    3265.28  \n",
       "26311    4280.70  \n",
       "...          ...  \n",
       "670435   2365.50  \n",
       "670446   3454.41  \n",
       "672381   4085.50  \n",
       "688646   1871.57  \n",
       "689153  11211.10  \n",
       "\n",
       "[100 rows x 6 columns]"
      ],
      "text/html": "<div>\n<style scoped>\n    .dataframe tbody tr th:only-of-type {\n        vertical-align: middle;\n    }\n\n    .dataframe tbody tr th {\n        vertical-align: top;\n    }\n\n    .dataframe thead th {\n        text-align: right;\n    }\n</style>\n<table border=\"1\" class=\"dataframe\">\n  <thead>\n    <tr style=\"text-align: right;\">\n      <th></th>\n      <th>fullvisitorId</th>\n      <th>operatingSystem</th>\n      <th>Paid</th>\n      <th>Visits</th>\n      <th>Transactions</th>\n      <th>Revenue</th>\n    </tr>\n  </thead>\n  <tbody>\n    <tr>\n      <th>2167</th>\n      <td>7965265156545901045</td>\n      <td>Windows</td>\n      <td>False</td>\n      <td>6</td>\n      <td>1.0</td>\n      <td>4847.60</td>\n    </tr>\n    <tr>\n      <th>3174</th>\n      <td>79204932396995037</td>\n      <td>Windows</td>\n      <td>False</td>\n      <td>8</td>\n      <td>2.0</td>\n      <td>7047.15</td>\n    </tr>\n    <tr>\n      <th>20585</th>\n      <td>428994201200499894</td>\n      <td>Macintosh</td>\n      <td>True</td>\n      <td>26</td>\n      <td>3.0</td>\n      <td>3286.57</td>\n    </tr>\n    <tr>\n      <th>25297</th>\n      <td>6147396474895233852</td>\n      <td>Chrome OS</td>\n      <td>False</td>\n      <td>10</td>\n      <td>5.0</td>\n      <td>3265.28</td>\n    </tr>\n    <tr>\n      <th>26311</th>\n      <td>4604965471651937146</td>\n      <td>Chrome OS</td>\n      <td>False</td>\n      <td>3</td>\n      <td>1.0</td>\n      <td>4280.70</td>\n    </tr>\n    <tr>\n      <th>...</th>\n      <td>...</td>\n      <td>...</td>\n      <td>...</td>\n      <td>...</td>\n      <td>...</td>\n      <td>...</td>\n    </tr>\n    <tr>\n      <th>670435</th>\n      <td>0095747507496204221</td>\n      <td>Chrome OS</td>\n      <td>False</td>\n      <td>5</td>\n      <td>1.0</td>\n      <td>2365.50</td>\n    </tr>\n    <tr>\n      <th>670446</th>\n      <td>7113011772090059658</td>\n      <td>Macintosh</td>\n      <td>False</td>\n      <td>6</td>\n      <td>3.0</td>\n      <td>3454.41</td>\n    </tr>\n    <tr>\n      <th>672381</th>\n      <td>9817395183603701442</td>\n      <td>Macintosh</td>\n      <td>False</td>\n      <td>4</td>\n      <td>1.0</td>\n      <td>4085.50</td>\n    </tr>\n    <tr>\n      <th>688646</th>\n      <td>7435052038545127483</td>\n      <td>Macintosh</td>\n      <td>False</td>\n      <td>32</td>\n      <td>6.0</td>\n      <td>1871.57</td>\n    </tr>\n    <tr>\n      <th>689153</th>\n      <td>4471415710206918415</td>\n      <td>Macintosh</td>\n      <td>False</td>\n      <td>49</td>\n      <td>4.0</td>\n      <td>11211.10</td>\n    </tr>\n  </tbody>\n</table>\n<p>100 rows × 6 columns</p>\n</div>"
     },
     "metadata": {},
     "execution_count": 54
    }
   ],
   "source": [
    "data.loc[data['Revenue'] > data['Revenue'].quantile(.99)]"
   ]
  },
  {
   "cell_type": "code",
   "execution_count": 55,
   "metadata": {},
   "outputs": [],
   "source": [
    "data = data.loc[(data['Revenue'] < data['Revenue'].quantile(.99)) | data['Revenue'].isna()]"
   ]
  },
  {
   "source": [
    "Let's check vor Outliers in `Visits` as well. "
   ],
   "cell_type": "markdown",
   "metadata": {}
  },
  {
   "cell_type": "code",
   "execution_count": 56,
   "metadata": {},
   "outputs": [
    {
     "output_type": "execute_result",
     "data": {
      "text/plain": [
       "              fullvisitorId operatingSystem   Paid  Visits  Transactions  \\\n",
       "2       5000278396028518256         Windows  False      48           NaN   \n",
       "25      7150788234103617625       Macintosh  False      26           NaN   \n",
       "236     6278147906633575997       Chrome OS  False      21           NaN   \n",
       "246      315017261115039181       Macintosh  False      22           1.0   \n",
       "318     7956068088911744651         Windows  False      76           NaN   \n",
       "...                     ...             ...    ...     ...           ...   \n",
       "693150  6731418263426071704       Macintosh  False      27           NaN   \n",
       "695596  8843025310060521600           Linux  False      21           2.0   \n",
       "697325  4941770276769705740       Macintosh  False      23           NaN   \n",
       "698442   056927584469366764       Macintosh  False      22           NaN   \n",
       "699576  8559462487932986301             iOS  False     128           NaN   \n",
       "\n",
       "        Revenue  \n",
       "2           NaN  \n",
       "25          NaN  \n",
       "236         NaN  \n",
       "246      299.31  \n",
       "318         NaN  \n",
       "...         ...  \n",
       "693150      NaN  \n",
       "695596   283.35  \n",
       "697325      NaN  \n",
       "698442      NaN  \n",
       "699576      NaN  \n",
       "\n",
       "[646 rows x 6 columns]"
      ],
      "text/html": "<div>\n<style scoped>\n    .dataframe tbody tr th:only-of-type {\n        vertical-align: middle;\n    }\n\n    .dataframe tbody tr th {\n        vertical-align: top;\n    }\n\n    .dataframe thead th {\n        text-align: right;\n    }\n</style>\n<table border=\"1\" class=\"dataframe\">\n  <thead>\n    <tr style=\"text-align: right;\">\n      <th></th>\n      <th>fullvisitorId</th>\n      <th>operatingSystem</th>\n      <th>Paid</th>\n      <th>Visits</th>\n      <th>Transactions</th>\n      <th>Revenue</th>\n    </tr>\n  </thead>\n  <tbody>\n    <tr>\n      <th>2</th>\n      <td>5000278396028518256</td>\n      <td>Windows</td>\n      <td>False</td>\n      <td>48</td>\n      <td>NaN</td>\n      <td>NaN</td>\n    </tr>\n    <tr>\n      <th>25</th>\n      <td>7150788234103617625</td>\n      <td>Macintosh</td>\n      <td>False</td>\n      <td>26</td>\n      <td>NaN</td>\n      <td>NaN</td>\n    </tr>\n    <tr>\n      <th>236</th>\n      <td>6278147906633575997</td>\n      <td>Chrome OS</td>\n      <td>False</td>\n      <td>21</td>\n      <td>NaN</td>\n      <td>NaN</td>\n    </tr>\n    <tr>\n      <th>246</th>\n      <td>315017261115039181</td>\n      <td>Macintosh</td>\n      <td>False</td>\n      <td>22</td>\n      <td>1.0</td>\n      <td>299.31</td>\n    </tr>\n    <tr>\n      <th>318</th>\n      <td>7956068088911744651</td>\n      <td>Windows</td>\n      <td>False</td>\n      <td>76</td>\n      <td>NaN</td>\n      <td>NaN</td>\n    </tr>\n    <tr>\n      <th>...</th>\n      <td>...</td>\n      <td>...</td>\n      <td>...</td>\n      <td>...</td>\n      <td>...</td>\n      <td>...</td>\n    </tr>\n    <tr>\n      <th>693150</th>\n      <td>6731418263426071704</td>\n      <td>Macintosh</td>\n      <td>False</td>\n      <td>27</td>\n      <td>NaN</td>\n      <td>NaN</td>\n    </tr>\n    <tr>\n      <th>695596</th>\n      <td>8843025310060521600</td>\n      <td>Linux</td>\n      <td>False</td>\n      <td>21</td>\n      <td>2.0</td>\n      <td>283.35</td>\n    </tr>\n    <tr>\n      <th>697325</th>\n      <td>4941770276769705740</td>\n      <td>Macintosh</td>\n      <td>False</td>\n      <td>23</td>\n      <td>NaN</td>\n      <td>NaN</td>\n    </tr>\n    <tr>\n      <th>698442</th>\n      <td>056927584469366764</td>\n      <td>Macintosh</td>\n      <td>False</td>\n      <td>22</td>\n      <td>NaN</td>\n      <td>NaN</td>\n    </tr>\n    <tr>\n      <th>699576</th>\n      <td>8559462487932986301</td>\n      <td>iOS</td>\n      <td>False</td>\n      <td>128</td>\n      <td>NaN</td>\n      <td>NaN</td>\n    </tr>\n  </tbody>\n</table>\n<p>646 rows × 6 columns</p>\n</div>"
     },
     "metadata": {},
     "execution_count": 56
    }
   ],
   "source": [
    "data.loc[data['Visits'] > data['Visits'].quantile(.999)]"
   ]
  },
  {
   "cell_type": "code",
   "execution_count": 57,
   "metadata": {},
   "outputs": [],
   "source": [
    "data = data.loc[(data['Visits'] < data['Visits'].quantile(.999)) | (data['Visits'].isna())]"
   ]
  },
  {
   "cell_type": "code",
   "execution_count": 58,
   "metadata": {},
   "outputs": [
    {
     "output_type": "execute_result",
     "data": {
      "text/plain": [
       "707448"
      ]
     },
     "metadata": {},
     "execution_count": 58
    }
   ],
   "source": [
    "len(data)"
   ]
  },
  {
   "source": [
    "Now Let's aggregate the data to look for any patterns insights in Paid traffic."
   ],
   "cell_type": "markdown",
   "metadata": {}
  },
  {
   "cell_type": "code",
   "execution_count": 59,
   "metadata": {},
   "outputs": [],
   "source": [
    "\n",
    "# Group data by operating system and the paid boolean. \n",
    "agg_data = data.groupby(['operatingSystem', 'Paid']).agg({'fullvisitorId':'count', 'Visits':'sum', 'Transactions':'sum', 'Revenue':'sum'})\n",
    "# Calculate the sucess rate of Unique visitors to transactions \n",
    "agg_data['rate'] = agg_data['Transactions']/agg_data['Visits']\n",
    "# Create Average Order size from Revenue and Transactions\n",
    "agg_data['Ave_Order'] = round((agg_data['Revenue']/agg_data['Transactions']), 2)\n",
    "# Reformat Revenue to readable value\n",
    "agg_data['Revenue'] = round(agg_data['Revenue'], 2)"
   ]
  },
  {
   "cell_type": "code",
   "execution_count": 60,
   "metadata": {},
   "outputs": [],
   "source": [
    "agg_data.reset_index(inplace=True)"
   ]
  },
  {
   "cell_type": "code",
   "execution_count": 61,
   "metadata": {},
   "outputs": [
    {
     "output_type": "display_data",
     "data": {
      "text/html": "        <script type=\"text/javascript\">\n        window.PlotlyConfig = {MathJaxConfig: 'local'};\n        if (window.MathJax) {MathJax.Hub.Config({SVG: {font: \"STIX-Web\"}});}\n        if (typeof require !== 'undefined') {\n        require.undef(\"plotly\");\n        requirejs.config({\n            paths: {\n                'plotly': ['https://cdn.plot.ly/plotly-latest.min']\n            }\n        });\n        require(['plotly'], function(Plotly) {\n            window._Plotly = Plotly;\n        });\n        }\n        </script>\n        "
     },
     "metadata": {}
    },
    {
     "output_type": "display_data",
     "data": {
      "text/html": "<div>\n        \n        \n            <div id=\"bf038e74-3fc0-4e17-b139-de6a131d1d74\" class=\"plotly-graph-div\" style=\"height:525px; width:100%;\"></div>\n            <script type=\"text/javascript\">\n                require([\"plotly\"], function(Plotly) {\n                    window.PLOTLYENV=window.PLOTLYENV || {};\n                    \n                if (document.getElementById(\"bf038e74-3fc0-4e17-b139-de6a131d1d74\")) {\n                    Plotly.newPlot(\n                        'bf038e74-3fc0-4e17-b139-de6a131d1d74',\n                        [{\"name\": \"From Paid Source\", \"type\": \"bar\", \"x\": [\"Android\", \"Chrome OS\", \"Linux\", \"Macintosh\", \"Windows\", \"iOS\"], \"y\": [0.015394765779634924, 0.05125, 0.026565464895635674, 0.05272564789991063, 0.031043593130779392, 0.012754409769335142]}, {\"name\": \"From Organic Source\", \"type\": \"bar\", \"x\": [\"Android\", \"Chrome OS\", \"Linux\", \"Macintosh\", \"Windows\", \"iOS\"], \"y\": [0.0033831029082961386, 0.03188061075730837, 0.020771197273114616, 0.023600010763972983, 0.0062329239925518155, 0.004602462317339777]}],\n                        {\"template\": {\"layout\": {\"annotationdefaults\": {\"arrowcolor\": \"#f2f5fa\", \"arrowhead\": 0, \"arrowwidth\": 1}, \"coloraxis\": {\"colorbar\": {\"outlinewidth\": 0, \"ticks\": \"\"}}, \"colorscale\": {\"diverging\": [[0, \"#8e0152\"], [0.1, \"#c51b7d\"], [0.2, \"#de77ae\"], [0.3, \"#f1b6da\"], [0.4, \"#fde0ef\"], [0.5, \"#f7f7f7\"], [0.6, \"#e6f5d0\"], [0.7, \"#b8e186\"], [0.8, \"#7fbc41\"], [0.9, \"#4d9221\"], [1, \"#276419\"]], \"sequential\": [[0.0, \"#0d0887\"], [0.1111111111111111, \"#46039f\"], [0.2222222222222222, \"#7201a8\"], [0.3333333333333333, \"#9c179e\"], [0.4444444444444444, \"#bd3786\"], [0.5555555555555556, \"#d8576b\"], [0.6666666666666666, \"#ed7953\"], [0.7777777777777778, \"#fb9f3a\"], [0.8888888888888888, \"#fdca26\"], [1.0, \"#f0f921\"]], \"sequentialminus\": [[0.0, \"#0d0887\"], [0.1111111111111111, \"#46039f\"], [0.2222222222222222, \"#7201a8\"], [0.3333333333333333, \"#9c179e\"], [0.4444444444444444, \"#bd3786\"], [0.5555555555555556, \"#d8576b\"], [0.6666666666666666, \"#ed7953\"], [0.7777777777777778, \"#fb9f3a\"], [0.8888888888888888, \"#fdca26\"], [1.0, \"#f0f921\"]]}, \"colorway\": [\"rgba(0, 203, 166, 0.7)\", \"rgba(168, 168, 168, 0.7)\", \"#19d3f3\", \"#00cc96\", \"#ab63fa\", \"#00CBA6\", \"#FF6692\", \"#B6E880\", \"#FF97FF\", \"#FECB52\"], \"font\": {\"color\": \"#2a3f5f\", \"family\": \"plain\"}, \"geo\": {\"bgcolor\": \"black\", \"lakecolor\": \"white\", \"landcolor\": \"white\", \"showlakes\": true, \"showland\": true, \"subunitcolor\": \"#506784\"}, \"hoverlabel\": {\"align\": \"left\"}, \"hovermode\": \"closest\", \"images\": [{\"layer\": \"below\", \"opacity\": 0.05, \"sizex\": 0.7, \"sizey\": 0.7, \"source\": \"https://product-derrick.s3.amazonaws.com/logoWhite.png\", \"x\": 0.15, \"xref\": \"paper\", \"y\": 0.75, \"yref\": \"paper\"}], \"mapbox\": {\"style\": \"light\"}, \"paper_bgcolor\": \"white\", \"plot_bgcolor\": \"white\", \"polar\": {\"angularaxis\": {\"gridcolor\": \"#506784\", \"linecolor\": \"#506784\", \"ticks\": \"\"}, \"bgcolor\": \"white\", \"radialaxis\": {\"gridcolor\": \"#506784\", \"linecolor\": \"#506784\", \"ticks\": \"\"}}, \"scene\": {\"xaxis\": {\"backgroundcolor\": \"white\", \"gridcolor\": \"#506784\", \"gridwidth\": 2, \"linecolor\": \"#506784\", \"showbackground\": true, \"ticks\": \"\", \"zerolinecolor\": \"#C8D4E3\"}, \"yaxis\": {\"backgroundcolor\": \"white\", \"gridcolor\": \"#506784\", \"gridwidth\": 2, \"linecolor\": \"#506784\", \"showbackground\": true, \"ticks\": \"\", \"zerolinecolor\": \"#C8D4E3\"}, \"zaxis\": {\"backgroundcolor\": \"rgb(17,17,17)\", \"gridcolor\": \"#506784\", \"gridwidth\": 2, \"linecolor\": \"#506784\", \"showbackground\": true, \"ticks\": \"\", \"zerolinecolor\": \"#C8D4E3\"}}, \"shapedefaults\": {\"line\": {\"color\": \"#f2f5fa\"}}, \"sliderdefaults\": {\"bgcolor\": \"#C8D4E3\", \"bordercolor\": \"rgb(17,17,17)\", \"borderwidth\": 1, \"tickwidth\": 0}, \"ternary\": {\"aaxis\": {\"gridcolor\": \"#506784\", \"linecolor\": \"#506784\", \"ticks\": \"\"}, \"baxis\": {\"gridcolor\": \"#506784\", \"linecolor\": \"#506784\", \"ticks\": \"\"}, \"bgcolor\": \"rgb(17,17,17)\", \"caxis\": {\"gridcolor\": \"#506784\", \"linecolor\": \"#506784\", \"ticks\": \"\"}}, \"title\": {\"font\": {\"size\": 24}, \"x\": 0.05}, \"updatemenudefaults\": {\"bgcolor\": \"#506784\", \"borderwidth\": 0}, \"xaxis\": {\"automargin\": true, \"gridcolor\": \"#DFE8F3\", \"linecolor\": \"#A2B1C6\", \"tickfont\": {\"color\": \"#2a3f5f\", \"family\": \"InterstateMono\", \"size\": 10}, \"ticks\": \"\", \"title\": {\"font\": {\"family\": \"Plain\", \"size\": 18}}, \"zerolinecolor\": \"#DFE8F3\", \"zerolinewidth\": 2}, \"yaxis\": {\"automargin\": true, \"gridcolor\": \"#DFE8F3\", \"linecolor\": \"#A2B1C6\", \"tickfont\": {\"color\": \"#2a3f5f\", \"family\": \"InterstateMono\", \"size\": 10}, \"ticks\": \"\", \"title\": {\"font\": {\"family\": \"plain\", \"size\": 18}}, \"zerolinecolor\": \"#DFE8F3\", \"zerolinewidth\": 2}}}, \"title\": {\"text\": \"Conversion Rate by Operating System\"}, \"yaxis\": {\"tickformat\": \"%\"}},\n                        {\"responsive\": true}\n                    ).then(function(){\n                            \nvar gd = document.getElementById('bf038e74-3fc0-4e17-b139-de6a131d1d74');\nvar x = new MutationObserver(function (mutations, observer) {{\n        var display = window.getComputedStyle(gd).display;\n        if (!display || display === 'none') {{\n            console.log([gd, 'removed!']);\n            Plotly.purge(gd);\n            observer.disconnect();\n        }}\n}});\n\n// Listen for the removal of the full notebook cells\nvar notebookContainer = gd.closest('#notebook-container');\nif (notebookContainer) {{\n    x.observe(notebookContainer, {childList: true});\n}}\n\n// Listen for the clearing of the current output cell\nvar outputEl = gd.closest('.output');\nif (outputEl) {{\n    x.observe(outputEl, {childList: true});\n}}\n\n                        })\n                };\n                });\n            </script>\n        </div>"
     },
     "metadata": {}
    }
   ],
   "source": [
    "fig = go.Figure()\n",
    "fig.add_trace(\n",
    "    go.Bar(\n",
    "        x=agg_data.loc[agg_data['Paid']==True]['operatingSystem'],\n",
    "        y=agg_data.loc[agg_data['Paid']==True]['rate'],\n",
    "        name=\"From Paid Source\"\n",
    "    )\n",
    ")\n",
    "fig.add_trace(\n",
    "    go.Bar(\n",
    "        x=agg_data.loc[agg_data['Paid']==False]['operatingSystem'],\n",
    "        y=agg_data.loc[agg_data['Paid']==False]['rate'],\n",
    "        name=\"From Organic Source\"\n",
    "    )\n",
    ")\n",
    "fig.update_layout(title='Conversion Rate by Operating System')\n",
    "fig.update_yaxes(tickformat='%')\n",
    "fig.show(renderer='notebook_connected')"
   ]
  },
  {
   "cell_type": "code",
   "execution_count": 62,
   "metadata": {},
   "outputs": [],
   "source": [
    "# Send Figure to Plotly Chart Studio to share on embed\n",
    "# py.plot(fig, filename = 'udacity-conversion_by_os', sharing='public')"
   ]
  },
  {
   "source": [
    "Now lets loot at Average order size. "
   ],
   "cell_type": "markdown",
   "metadata": {}
  },
  {
   "cell_type": "code",
   "execution_count": 63,
   "metadata": {},
   "outputs": [
    {
     "output_type": "display_data",
     "data": {
      "text/html": "        <script type=\"text/javascript\">\n        window.PlotlyConfig = {MathJaxConfig: 'local'};\n        if (window.MathJax) {MathJax.Hub.Config({SVG: {font: \"STIX-Web\"}});}\n        if (typeof require !== 'undefined') {\n        require.undef(\"plotly\");\n        requirejs.config({\n            paths: {\n                'plotly': ['https://cdn.plot.ly/plotly-latest.min']\n            }\n        });\n        require(['plotly'], function(Plotly) {\n            window._Plotly = Plotly;\n        });\n        }\n        </script>\n        "
     },
     "metadata": {}
    },
    {
     "output_type": "display_data",
     "data": {
      "text/html": "<div>\n        \n        \n            <div id=\"26512546-9372-4c18-a011-b65d66868424\" class=\"plotly-graph-div\" style=\"height:525px; width:100%;\"></div>\n            <script type=\"text/javascript\">\n                require([\"plotly\"], function(Plotly) {\n                    window.PLOTLYENV=window.PLOTLYENV || {};\n                    \n                if (document.getElementById(\"26512546-9372-4c18-a011-b65d66868424\")) {\n                    Plotly.newPlot(\n                        '26512546-9372-4c18-a011-b65d66868424',\n                        [{\"name\": \"From Paid Source\", \"type\": \"bar\", \"x\": [\"Android\", \"Chrome OS\", \"Linux\", \"Macintosh\", \"Windows\", \"iOS\"], \"y\": [66.43, 205.96, 52.57, 110.81, 76.46, 65.36]}, {\"name\": \"From Organic Source\", \"type\": \"bar\", \"x\": [\"Android\", \"Chrome OS\", \"Linux\", \"Macintosh\", \"Windows\", \"iOS\"], \"y\": [57.62, 116.1, 54.12, 104.62, 84.0, 39.02]}],\n                        {\"template\": {\"layout\": {\"annotationdefaults\": {\"arrowcolor\": \"#f2f5fa\", \"arrowhead\": 0, \"arrowwidth\": 1}, \"coloraxis\": {\"colorbar\": {\"outlinewidth\": 0, \"ticks\": \"\"}}, \"colorscale\": {\"diverging\": [[0, \"#8e0152\"], [0.1, \"#c51b7d\"], [0.2, \"#de77ae\"], [0.3, \"#f1b6da\"], [0.4, \"#fde0ef\"], [0.5, \"#f7f7f7\"], [0.6, \"#e6f5d0\"], [0.7, \"#b8e186\"], [0.8, \"#7fbc41\"], [0.9, \"#4d9221\"], [1, \"#276419\"]], \"sequential\": [[0.0, \"#0d0887\"], [0.1111111111111111, \"#46039f\"], [0.2222222222222222, \"#7201a8\"], [0.3333333333333333, \"#9c179e\"], [0.4444444444444444, \"#bd3786\"], [0.5555555555555556, \"#d8576b\"], [0.6666666666666666, \"#ed7953\"], [0.7777777777777778, \"#fb9f3a\"], [0.8888888888888888, \"#fdca26\"], [1.0, \"#f0f921\"]], \"sequentialminus\": [[0.0, \"#0d0887\"], [0.1111111111111111, \"#46039f\"], [0.2222222222222222, \"#7201a8\"], [0.3333333333333333, \"#9c179e\"], [0.4444444444444444, \"#bd3786\"], [0.5555555555555556, \"#d8576b\"], [0.6666666666666666, \"#ed7953\"], [0.7777777777777778, \"#fb9f3a\"], [0.8888888888888888, \"#fdca26\"], [1.0, \"#f0f921\"]]}, \"colorway\": [\"rgba(0, 203, 166, 0.7)\", \"rgba(168, 168, 168, 0.7)\", \"#19d3f3\", \"#00cc96\", \"#ab63fa\", \"#00CBA6\", \"#FF6692\", \"#B6E880\", \"#FF97FF\", \"#FECB52\"], \"font\": {\"color\": \"#2a3f5f\", \"family\": \"plain\"}, \"geo\": {\"bgcolor\": \"black\", \"lakecolor\": \"white\", \"landcolor\": \"white\", \"showlakes\": true, \"showland\": true, \"subunitcolor\": \"#506784\"}, \"hoverlabel\": {\"align\": \"left\"}, \"hovermode\": \"closest\", \"images\": [{\"layer\": \"below\", \"opacity\": 0.05, \"sizex\": 0.7, \"sizey\": 0.7, \"source\": \"https://product-derrick.s3.amazonaws.com/logoWhite.png\", \"x\": 0.15, \"xref\": \"paper\", \"y\": 0.75, \"yref\": \"paper\"}], \"mapbox\": {\"style\": \"light\"}, \"paper_bgcolor\": \"white\", \"plot_bgcolor\": \"white\", \"polar\": {\"angularaxis\": {\"gridcolor\": \"#506784\", \"linecolor\": \"#506784\", \"ticks\": \"\"}, \"bgcolor\": \"white\", \"radialaxis\": {\"gridcolor\": \"#506784\", \"linecolor\": \"#506784\", \"ticks\": \"\"}}, \"scene\": {\"xaxis\": {\"backgroundcolor\": \"white\", \"gridcolor\": \"#506784\", \"gridwidth\": 2, \"linecolor\": \"#506784\", \"showbackground\": true, \"ticks\": \"\", \"zerolinecolor\": \"#C8D4E3\"}, \"yaxis\": {\"backgroundcolor\": \"white\", \"gridcolor\": \"#506784\", \"gridwidth\": 2, \"linecolor\": \"#506784\", \"showbackground\": true, \"ticks\": \"\", \"zerolinecolor\": \"#C8D4E3\"}, \"zaxis\": {\"backgroundcolor\": \"rgb(17,17,17)\", \"gridcolor\": \"#506784\", \"gridwidth\": 2, \"linecolor\": \"#506784\", \"showbackground\": true, \"ticks\": \"\", \"zerolinecolor\": \"#C8D4E3\"}}, \"shapedefaults\": {\"line\": {\"color\": \"#f2f5fa\"}}, \"sliderdefaults\": {\"bgcolor\": \"#C8D4E3\", \"bordercolor\": \"rgb(17,17,17)\", \"borderwidth\": 1, \"tickwidth\": 0}, \"ternary\": {\"aaxis\": {\"gridcolor\": \"#506784\", \"linecolor\": \"#506784\", \"ticks\": \"\"}, \"baxis\": {\"gridcolor\": \"#506784\", \"linecolor\": \"#506784\", \"ticks\": \"\"}, \"bgcolor\": \"rgb(17,17,17)\", \"caxis\": {\"gridcolor\": \"#506784\", \"linecolor\": \"#506784\", \"ticks\": \"\"}}, \"title\": {\"font\": {\"size\": 24}, \"x\": 0.05}, \"updatemenudefaults\": {\"bgcolor\": \"#506784\", \"borderwidth\": 0}, \"xaxis\": {\"automargin\": true, \"gridcolor\": \"#DFE8F3\", \"linecolor\": \"#A2B1C6\", \"tickfont\": {\"color\": \"#2a3f5f\", \"family\": \"InterstateMono\", \"size\": 10}, \"ticks\": \"\", \"title\": {\"font\": {\"family\": \"Plain\", \"size\": 18}}, \"zerolinecolor\": \"#DFE8F3\", \"zerolinewidth\": 2}, \"yaxis\": {\"automargin\": true, \"gridcolor\": \"#DFE8F3\", \"linecolor\": \"#A2B1C6\", \"tickfont\": {\"color\": \"#2a3f5f\", \"family\": \"InterstateMono\", \"size\": 10}, \"ticks\": \"\", \"title\": {\"font\": {\"family\": \"plain\", \"size\": 18}}, \"zerolinecolor\": \"#DFE8F3\", \"zerolinewidth\": 2}}}, \"title\": {\"text\": \"Average Order by Operating System\"}, \"yaxis\": {\"tickformat\": \"$\"}},\n                        {\"responsive\": true}\n                    ).then(function(){\n                            \nvar gd = document.getElementById('26512546-9372-4c18-a011-b65d66868424');\nvar x = new MutationObserver(function (mutations, observer) {{\n        var display = window.getComputedStyle(gd).display;\n        if (!display || display === 'none') {{\n            console.log([gd, 'removed!']);\n            Plotly.purge(gd);\n            observer.disconnect();\n        }}\n}});\n\n// Listen for the removal of the full notebook cells\nvar notebookContainer = gd.closest('#notebook-container');\nif (notebookContainer) {{\n    x.observe(notebookContainer, {childList: true});\n}}\n\n// Listen for the clearing of the current output cell\nvar outputEl = gd.closest('.output');\nif (outputEl) {{\n    x.observe(outputEl, {childList: true});\n}}\n\n                        })\n                };\n                });\n            </script>\n        </div>"
     },
     "metadata": {}
    }
   ],
   "source": [
    "fig = go.Figure()\n",
    "fig.add_trace(\n",
    "    go.Bar(\n",
    "        x=agg_data.loc[agg_data['Paid']==True]['operatingSystem'],\n",
    "        y=agg_data.loc[agg_data['Paid']==True]['Ave_Order'],\n",
    "        name=\"From Paid Source\"\n",
    "    )\n",
    ")\n",
    "fig.add_trace(\n",
    "    go.Bar(\n",
    "        x=agg_data.loc[agg_data['Paid']==False]['operatingSystem'],\n",
    "        y=agg_data.loc[agg_data['Paid']==False]['Ave_Order'],\n",
    "        name=\"From Organic Source\"\n",
    "    )\n",
    ")\n",
    "fig.update_layout(title='Average Order by Operating System')\n",
    "fig.update_yaxes(tickformat='$')\n",
    "fig.show(renderer='notebook_connected')"
   ]
  },
  {
   "cell_type": "code",
   "execution_count": 64,
   "metadata": {},
   "outputs": [],
   "source": [
    "# Send Figure to Plotly Chart Studio to share on embed\n",
    "# py.plot(fig, filename = 'udacity_aveOrder_by_os', sharing='public')"
   ]
  },
  {
   "source": [
    "Let's blow the whole thing up. We may have seen paid traffic increase conversion. We also saw paid traffic increase average ordersize. However, what about raw volume? "
   ],
   "cell_type": "markdown",
   "metadata": {}
  },
  {
   "cell_type": "code",
   "execution_count": 65,
   "metadata": {},
   "outputs": [
    {
     "output_type": "display_data",
     "data": {
      "text/html": "        <script type=\"text/javascript\">\n        window.PlotlyConfig = {MathJaxConfig: 'local'};\n        if (window.MathJax) {MathJax.Hub.Config({SVG: {font: \"STIX-Web\"}});}\n        if (typeof require !== 'undefined') {\n        require.undef(\"plotly\");\n        requirejs.config({\n            paths: {\n                'plotly': ['https://cdn.plot.ly/plotly-latest.min']\n            }\n        });\n        require(['plotly'], function(Plotly) {\n            window._Plotly = Plotly;\n        });\n        }\n        </script>\n        "
     },
     "metadata": {}
    },
    {
     "output_type": "display_data",
     "data": {
      "text/html": "<div>\n        \n        \n            <div id=\"cc7df8a5-725d-4c73-b5cf-cc43df50e4a2\" class=\"plotly-graph-div\" style=\"height:525px; width:100%;\"></div>\n            <script type=\"text/javascript\">\n                require([\"plotly\"], function(Plotly) {\n                    window.PLOTLYENV=window.PLOTLYENV || {};\n                    \n                if (document.getElementById(\"cc7df8a5-725d-4c73-b5cf-cc43df50e4a2\")) {\n                    Plotly.newPlot(\n                        'cc7df8a5-725d-4c73-b5cf-cc43df50e4a2',\n                        [{\"name\": \"From Paid Source\", \"type\": \"bar\", \"x\": [\"Android\", \"Chrome OS\", \"Linux\", \"Macintosh\", \"Windows\", \"iOS\"], \"y\": [4649.79, 8444.49, 735.98, 26151.8, 7186.79, 3071.97]}, {\"name\": \"From Organic Source\", \"type\": \"bar\", \"x\": [\"Android\", \"Chrome OS\", \"Linux\", \"Macintosh\", \"Windows\", \"iOS\"], \"y\": [23277.98, 96476.87, 42211.27, 642241.7, 180517.88, 18731.61]}],\n                        {\"template\": {\"layout\": {\"annotationdefaults\": {\"arrowcolor\": \"#f2f5fa\", \"arrowhead\": 0, \"arrowwidth\": 1}, \"coloraxis\": {\"colorbar\": {\"outlinewidth\": 0, \"ticks\": \"\"}}, \"colorscale\": {\"diverging\": [[0, \"#8e0152\"], [0.1, \"#c51b7d\"], [0.2, \"#de77ae\"], [0.3, \"#f1b6da\"], [0.4, \"#fde0ef\"], [0.5, \"#f7f7f7\"], [0.6, \"#e6f5d0\"], [0.7, \"#b8e186\"], [0.8, \"#7fbc41\"], [0.9, \"#4d9221\"], [1, \"#276419\"]], \"sequential\": [[0.0, \"#0d0887\"], [0.1111111111111111, \"#46039f\"], [0.2222222222222222, \"#7201a8\"], [0.3333333333333333, \"#9c179e\"], [0.4444444444444444, \"#bd3786\"], [0.5555555555555556, \"#d8576b\"], [0.6666666666666666, \"#ed7953\"], [0.7777777777777778, \"#fb9f3a\"], [0.8888888888888888, \"#fdca26\"], [1.0, \"#f0f921\"]], \"sequentialminus\": [[0.0, \"#0d0887\"], [0.1111111111111111, \"#46039f\"], [0.2222222222222222, \"#7201a8\"], [0.3333333333333333, \"#9c179e\"], [0.4444444444444444, \"#bd3786\"], [0.5555555555555556, \"#d8576b\"], [0.6666666666666666, \"#ed7953\"], [0.7777777777777778, \"#fb9f3a\"], [0.8888888888888888, \"#fdca26\"], [1.0, \"#f0f921\"]]}, \"colorway\": [\"rgba(0, 203, 166, 0.7)\", \"rgba(168, 168, 168, 0.7)\", \"#19d3f3\", \"#00cc96\", \"#ab63fa\", \"#00CBA6\", \"#FF6692\", \"#B6E880\", \"#FF97FF\", \"#FECB52\"], \"font\": {\"color\": \"#2a3f5f\", \"family\": \"plain\"}, \"geo\": {\"bgcolor\": \"black\", \"lakecolor\": \"white\", \"landcolor\": \"white\", \"showlakes\": true, \"showland\": true, \"subunitcolor\": \"#506784\"}, \"hoverlabel\": {\"align\": \"left\"}, \"hovermode\": \"closest\", \"images\": [{\"layer\": \"below\", \"opacity\": 0.05, \"sizex\": 0.7, \"sizey\": 0.7, \"source\": \"https://product-derrick.s3.amazonaws.com/logoWhite.png\", \"x\": 0.15, \"xref\": \"paper\", \"y\": 0.75, \"yref\": \"paper\"}], \"mapbox\": {\"style\": \"light\"}, \"paper_bgcolor\": \"white\", \"plot_bgcolor\": \"white\", \"polar\": {\"angularaxis\": {\"gridcolor\": \"#506784\", \"linecolor\": \"#506784\", \"ticks\": \"\"}, \"bgcolor\": \"white\", \"radialaxis\": {\"gridcolor\": \"#506784\", \"linecolor\": \"#506784\", \"ticks\": \"\"}}, \"scene\": {\"xaxis\": {\"backgroundcolor\": \"white\", \"gridcolor\": \"#506784\", \"gridwidth\": 2, \"linecolor\": \"#506784\", \"showbackground\": true, \"ticks\": \"\", \"zerolinecolor\": \"#C8D4E3\"}, \"yaxis\": {\"backgroundcolor\": \"white\", \"gridcolor\": \"#506784\", \"gridwidth\": 2, \"linecolor\": \"#506784\", \"showbackground\": true, \"ticks\": \"\", \"zerolinecolor\": \"#C8D4E3\"}, \"zaxis\": {\"backgroundcolor\": \"rgb(17,17,17)\", \"gridcolor\": \"#506784\", \"gridwidth\": 2, \"linecolor\": \"#506784\", \"showbackground\": true, \"ticks\": \"\", \"zerolinecolor\": \"#C8D4E3\"}}, \"shapedefaults\": {\"line\": {\"color\": \"#f2f5fa\"}}, \"sliderdefaults\": {\"bgcolor\": \"#C8D4E3\", \"bordercolor\": \"rgb(17,17,17)\", \"borderwidth\": 1, \"tickwidth\": 0}, \"ternary\": {\"aaxis\": {\"gridcolor\": \"#506784\", \"linecolor\": \"#506784\", \"ticks\": \"\"}, \"baxis\": {\"gridcolor\": \"#506784\", \"linecolor\": \"#506784\", \"ticks\": \"\"}, \"bgcolor\": \"rgb(17,17,17)\", \"caxis\": {\"gridcolor\": \"#506784\", \"linecolor\": \"#506784\", \"ticks\": \"\"}}, \"title\": {\"font\": {\"size\": 24}, \"x\": 0.05}, \"updatemenudefaults\": {\"bgcolor\": \"#506784\", \"borderwidth\": 0}, \"xaxis\": {\"automargin\": true, \"gridcolor\": \"#DFE8F3\", \"linecolor\": \"#A2B1C6\", \"tickfont\": {\"color\": \"#2a3f5f\", \"family\": \"InterstateMono\", \"size\": 10}, \"ticks\": \"\", \"title\": {\"font\": {\"family\": \"Plain\", \"size\": 18}}, \"zerolinecolor\": \"#DFE8F3\", \"zerolinewidth\": 2}, \"yaxis\": {\"automargin\": true, \"gridcolor\": \"#DFE8F3\", \"linecolor\": \"#A2B1C6\", \"tickfont\": {\"color\": \"#2a3f5f\", \"family\": \"InterstateMono\", \"size\": 10}, \"ticks\": \"\", \"title\": {\"font\": {\"family\": \"plain\", \"size\": 18}}, \"zerolinecolor\": \"#DFE8F3\", \"zerolinewidth\": 2}}}, \"title\": {\"text\": \"Total Revenue by Operating System\"}, \"yaxis\": {\"tickformat\": \"$\"}},\n                        {\"responsive\": true}\n                    ).then(function(){\n                            \nvar gd = document.getElementById('cc7df8a5-725d-4c73-b5cf-cc43df50e4a2');\nvar x = new MutationObserver(function (mutations, observer) {{\n        var display = window.getComputedStyle(gd).display;\n        if (!display || display === 'none') {{\n            console.log([gd, 'removed!']);\n            Plotly.purge(gd);\n            observer.disconnect();\n        }}\n}});\n\n// Listen for the removal of the full notebook cells\nvar notebookContainer = gd.closest('#notebook-container');\nif (notebookContainer) {{\n    x.observe(notebookContainer, {childList: true});\n}}\n\n// Listen for the clearing of the current output cell\nvar outputEl = gd.closest('.output');\nif (outputEl) {{\n    x.observe(outputEl, {childList: true});\n}}\n\n                        })\n                };\n                });\n            </script>\n        </div>"
     },
     "metadata": {}
    }
   ],
   "source": [
    "fig = go.Figure()\n",
    "fig.add_trace(\n",
    "    go.Bar(\n",
    "        x=agg_data.loc[agg_data['Paid']==True]['operatingSystem'],\n",
    "        y=agg_data.loc[agg_data['Paid']==True]['Revenue'],\n",
    "        name=\"From Paid Source\"\n",
    "    )\n",
    ")\n",
    "fig.add_trace(\n",
    "    go.Bar(\n",
    "        x=agg_data.loc[agg_data['Paid']==False]['operatingSystem'],\n",
    "        y=agg_data.loc[agg_data['Paid']==False]['Revenue'],\n",
    "        name=\"From Organic Source\"\n",
    "    )\n",
    ")\n",
    "fig.update_layout(title='Total Revenue by Operating System')\n",
    "fig.update_yaxes(tickformat='$')\n",
    "fig.show(renderer='notebook_connected')"
   ]
  },
  {
   "cell_type": "code",
   "execution_count": 66,
   "metadata": {},
   "outputs": [],
   "source": [
    "# Send Figure to Plotly Chart Studio to share on embed\n",
    "# py.plot(fig, filename = 'udacity-totRev_by_os', sharing='public')"
   ]
  },
  {
   "cell_type": "code",
   "execution_count": null,
   "metadata": {},
   "outputs": [],
   "source": []
  }
 ]
}